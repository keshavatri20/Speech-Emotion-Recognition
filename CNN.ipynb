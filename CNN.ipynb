{
  "nbformat": 4,
  "nbformat_minor": 0,
  "metadata": {
    "colab": {
      "name": "Group_20_Project_CNN.ipynb",
      "provenance": [],
      "collapsed_sections": []
    },
    "kernelspec": {
      "name": "python3",
      "display_name": "Python 3"
    }
  },
  "cells": [
    {
      "cell_type": "markdown",
      "metadata": {
        "id": "oTlJ9HfEqrwy"
      },
      "source": [
        "<h2><center>Group 20</center></h2>\n",
        "<h3><center>Jainit Patel - 201801172</center></h3>\n",
        "<h3><center>Raj Desai - 201801183</center></h3>\n",
        "<h3><center>Chirag Gupta - 201801188</center></h3>\n",
        "<h3><center>Meet Parmar - 201801195</center></h3>\n",
        "<h3><center>Raj Bhavsar - 201801437</center></h3>"
      ]
    },
    {
      "cell_type": "markdown",
      "metadata": {
        "id": "CjWvnaQUrZmD"
      },
      "source": [
        "# Speech Emotion Recognition using Convolutional Neural network"
      ]
    },
    {
      "cell_type": "code",
      "metadata": {
        "colab": {
          "base_uri": "https://localhost:8080/"
        },
        "id": "7XXGs0l4wkvx",
        "outputId": "9d7892b5-89dd-4657-b823-f169368d7953"
      },
      "source": [
        "# Mounting Google Drive so that Data can be used directly from linked drive\n",
        "\n",
        "from google.colab import drive\n",
        "drive.mount('/content/drive')"
      ],
      "execution_count": null,
      "outputs": [
        {
          "output_type": "stream",
          "name": "stdout",
          "text": [
            "Mounted at /content/drive\n"
          ]
        }
      ]
    },
    {
      "cell_type": "code",
      "metadata": {
        "id": "N3b7x9shnZwp",
        "colab": {
          "base_uri": "https://localhost:8080/"
        },
        "outputId": "30c66353-ef98-4e05-dc23-880f8abe24ec"
      },
      "source": [
        "# Importing Librosa library for extracting important features of \n",
        "# the audio like the pitch,tone.\n",
        "!pip install librosa"
      ],
      "execution_count": null,
      "outputs": [
        {
          "output_type": "stream",
          "name": "stdout",
          "text": [
            "Requirement already satisfied: librosa in /usr/local/lib/python3.7/dist-packages (0.8.1)\n",
            "Requirement already satisfied: numpy>=1.15.0 in /usr/local/lib/python3.7/dist-packages (from librosa) (1.19.5)\n",
            "Requirement already satisfied: numba>=0.43.0 in /usr/local/lib/python3.7/dist-packages (from librosa) (0.51.2)\n",
            "Requirement already satisfied: decorator>=3.0.0 in /usr/local/lib/python3.7/dist-packages (from librosa) (4.4.2)\n",
            "Requirement already satisfied: resampy>=0.2.2 in /usr/local/lib/python3.7/dist-packages (from librosa) (0.2.2)\n",
            "Requirement already satisfied: packaging>=20.0 in /usr/local/lib/python3.7/dist-packages (from librosa) (21.3)\n",
            "Requirement already satisfied: pooch>=1.0 in /usr/local/lib/python3.7/dist-packages (from librosa) (1.5.2)\n",
            "Requirement already satisfied: scipy>=1.0.0 in /usr/local/lib/python3.7/dist-packages (from librosa) (1.4.1)\n",
            "Requirement already satisfied: scikit-learn!=0.19.0,>=0.14.0 in /usr/local/lib/python3.7/dist-packages (from librosa) (1.0.1)\n",
            "Requirement already satisfied: audioread>=2.0.0 in /usr/local/lib/python3.7/dist-packages (from librosa) (2.1.9)\n",
            "Requirement already satisfied: soundfile>=0.10.2 in /usr/local/lib/python3.7/dist-packages (from librosa) (0.10.3.post1)\n",
            "Requirement already satisfied: joblib>=0.14 in /usr/local/lib/python3.7/dist-packages (from librosa) (1.1.0)\n",
            "Requirement already satisfied: setuptools in /usr/local/lib/python3.7/dist-packages (from numba>=0.43.0->librosa) (57.4.0)\n",
            "Requirement already satisfied: llvmlite<0.35,>=0.34.0.dev0 in /usr/local/lib/python3.7/dist-packages (from numba>=0.43.0->librosa) (0.34.0)\n",
            "Requirement already satisfied: pyparsing!=3.0.5,>=2.0.2 in /usr/local/lib/python3.7/dist-packages (from packaging>=20.0->librosa) (3.0.6)\n",
            "Requirement already satisfied: requests in /usr/local/lib/python3.7/dist-packages (from pooch>=1.0->librosa) (2.23.0)\n",
            "Requirement already satisfied: appdirs in /usr/local/lib/python3.7/dist-packages (from pooch>=1.0->librosa) (1.4.4)\n",
            "Requirement already satisfied: six>=1.3 in /usr/local/lib/python3.7/dist-packages (from resampy>=0.2.2->librosa) (1.15.0)\n",
            "Requirement already satisfied: threadpoolctl>=2.0.0 in /usr/local/lib/python3.7/dist-packages (from scikit-learn!=0.19.0,>=0.14.0->librosa) (3.0.0)\n",
            "Requirement already satisfied: cffi>=1.0 in /usr/local/lib/python3.7/dist-packages (from soundfile>=0.10.2->librosa) (1.15.0)\n",
            "Requirement already satisfied: pycparser in /usr/local/lib/python3.7/dist-packages (from cffi>=1.0->soundfile>=0.10.2->librosa) (2.21)\n",
            "Requirement already satisfied: certifi>=2017.4.17 in /usr/local/lib/python3.7/dist-packages (from requests->pooch>=1.0->librosa) (2021.10.8)\n",
            "Requirement already satisfied: idna<3,>=2.5 in /usr/local/lib/python3.7/dist-packages (from requests->pooch>=1.0->librosa) (2.10)\n",
            "Requirement already satisfied: urllib3!=1.25.0,!=1.25.1,<1.26,>=1.21.1 in /usr/local/lib/python3.7/dist-packages (from requests->pooch>=1.0->librosa) (1.24.3)\n",
            "Requirement already satisfied: chardet<4,>=3.0.2 in /usr/local/lib/python3.7/dist-packages (from requests->pooch>=1.0->librosa) (3.0.4)\n"
          ]
        }
      ]
    },
    {
      "cell_type": "markdown",
      "metadata": {
        "id": "jPKKk4wEpMMW"
      },
      "source": [
        "# Loading dataset from csv file\n",
        "\n",
        "From feature extraction, we stored mfcc in csv file "
      ]
    },
    {
      "cell_type": "code",
      "metadata": {
        "id": "ZdxY8LUotJCU",
        "colab": {
          "base_uri": "https://localhost:8080/"
        },
        "outputId": "19bc70d2-a277-4f04-d79e-1fae3941f283"
      },
      "source": [
        "#Loading MFCCs and emotions of all files\n",
        "import time\n",
        "\n",
        "starting_time = time.time()\n",
        "data = pd.read_csv('/content/drive/MyDrive/ML/RAVTESS_MFCC_Observed.csv')\n",
        "print(\"data loaded in \" + str(time.time()-starting_time) + \"ms\")\n",
        "\n",
        "print(data.head())"
      ],
      "execution_count": null,
      "outputs": [
        {
          "output_type": "stream",
          "name": "stdout",
          "text": [
            "data loaded in 0.49177980422973633ms\n",
            "   Unnamed: 0           0          1  ...         38         39    emotion\n",
            "0        2842 -520.823303  75.906799  ...  19.813313  10.987593    neutral\n",
            "1        3247 -423.271484  77.593124  ...   2.209725   2.348104    disgust\n",
            "2         610 -715.503662  69.203728  ...  -2.218677  -2.971524       calm\n",
            "3         634 -537.216003  46.795460  ...   4.379309   3.290406        sad\n",
            "4         535 -589.433960  52.526531  ...  -0.472045   0.445019  surprised\n",
            "\n",
            "[5 rows x 42 columns]\n"
          ]
        }
      ]
    },
    {
      "cell_type": "code",
      "metadata": {
        "id": "Mi8NEOUItS8f"
      },
      "source": [
        "#dropping the column Unnamed: 0 to removed shuffled index\n",
        "data = data.drop('Unnamed: 0',axis=1)"
      ],
      "execution_count": null,
      "outputs": []
    },
    {
      "cell_type": "code",
      "metadata": {
        "id": "Gd6hsVYjukTK",
        "colab": {
          "base_uri": "https://localhost:8080/"
        },
        "outputId": "07baf9d8-527c-4fb5-cec5-8bc2d543d9d3"
      },
      "source": [
        "#separating features and target outputs\n",
        "X = data.drop('emotion', axis = 1).values\n",
        "y = data['emotion'].values\n",
        "\n",
        "print(X.shape)\n",
        "\n",
        "np.unique(y)"
      ],
      "execution_count": null,
      "outputs": [
        {
          "output_type": "stream",
          "name": "stdout",
          "text": [
            "(4240, 40)\n"
          ]
        },
        {
          "output_type": "execute_result",
          "data": {
            "text/plain": [
              "array(['angry', 'calm', 'disgust', 'fear', 'happy', 'neutral', 'sad',\n",
              "       'surprised'], dtype=object)"
            ]
          },
          "metadata": {},
          "execution_count": 6
        }
      ]
    },
    {
      "cell_type": "code",
      "metadata": {
        "id": "EtL1qog729II"
      },
      "source": [
        "# 0 = neutral, 1 = calm, 2 = happy, 3 = sad, 4 = angry, 5 = fear, 6 = disgust, 7 = surprised \n",
        "d = dict()\n",
        "d['neutral'] = 0\n",
        "d['calm'] = 1\n",
        "d['happy'] = 2\n",
        "d['sad'] = 3\n",
        "d['angry'] = 4\n",
        "d['fear'] = 5\n",
        "d['disgust'] = 6\n",
        "d['surprised'] = 7\n",
        "\n",
        "for i in range(len(y)):\n",
        "  y[i] = d[y[i]]\n",
        "\n",
        "y=y.astype('int')"
      ],
      "execution_count": null,
      "outputs": []
    },
    {
      "cell_type": "code",
      "metadata": {
        "id": "H4Oi1NaYF-Bw"
      },
      "source": [
        "from sklearn.model_selection import train_test_split\n",
        "\n",
        "X_train, X_test, y_train, y_test = train_test_split(X,y, test_size=0.20, random_state=42)"
      ],
      "execution_count": null,
      "outputs": []
    },
    {
      "cell_type": "markdown",
      "metadata": {
        "id": "t9eqMHV3S8i6"
      },
      "source": [
        "# Convolutional Neural network"
      ]
    },
    {
      "cell_type": "markdown",
      "metadata": {
        "id": "66lNKCATGTQr"
      },
      "source": [
        "### Max Pooling "
      ]
    },
    {
      "cell_type": "code",
      "metadata": {
        "id": "nIhRgcH3B0gu"
      },
      "source": [
        "import numpy as np\n",
        "x_traincnn = np.expand_dims(X_train, axis=2)\n",
        "x_testcnn = np.expand_dims(X_test, axis=2)"
      ],
      "execution_count": null,
      "outputs": []
    },
    {
      "cell_type": "code",
      "metadata": {
        "id": "XRg78iarB1OI",
        "colab": {
          "base_uri": "https://localhost:8080/"
        },
        "outputId": "6dffe04c-df24-4479-9d5c-9bafb81fa8c9"
      },
      "source": [
        "x_traincnn.shape, x_testcnn.shape"
      ],
      "execution_count": null,
      "outputs": [
        {
          "output_type": "execute_result",
          "data": {
            "text/plain": [
              "((3392, 40, 1), (848, 40, 1))"
            ]
          },
          "metadata": {},
          "execution_count": 13
        }
      ]
    },
    {
      "cell_type": "code",
      "metadata": {
        "id": "LgYdhmGJB4ur",
        "colab": {
          "base_uri": "https://localhost:8080/"
        },
        "outputId": "49224a65-bd61-4070-eb40-129f1ebe20d7"
      },
      "source": [
        "import keras\n",
        "import numpy as np\n",
        "import matplotlib.pyplot as plt\n",
        "import tensorflow as tf\n",
        "from keras.preprocessing import sequence\n",
        "from keras.models import Sequential\n",
        "from keras.layers import Dense, Embedding\n",
        "from tensorflow.keras.utils import to_categorical\n",
        "from keras.layers import Input, Flatten, Dropout, Activation\n",
        "from keras.layers import Conv1D, MaxPooling1D\n",
        "from keras.models import Model\n",
        "from keras.callbacks import ModelCheckpoint\n",
        "\n",
        "model = Sequential()\n",
        "\n",
        "model.add(Conv1D(64, 5,padding='same',\n",
        "                 input_shape=(40,1)))\n",
        "model.add(Activation('relu'))\n",
        "model.add(Dropout(0.1))\n",
        "model.add(MaxPooling1D(pool_size=(4)))\n",
        "model.add(Conv1D(128, 5,padding='same',))\n",
        "model.add(Activation('relu'))\n",
        "model.add(Dropout(0.1))\n",
        "model.add(MaxPooling1D(pool_size=(4)))\n",
        "model.add(Conv1D(256, 5,padding='same',))\n",
        "model.add(Activation('relu'))\n",
        "model.add(Dropout(0.1))\n",
        "model.add(Flatten())\n",
        "model.add(Dense(8))\n",
        "model.add(Activation('softmax'))\n",
        "opt = tf.keras.optimizers.RMSprop(lr=0.00005, rho=0.9, epsilon=1e-07, decay=0.0)"
      ],
      "execution_count": null,
      "outputs": [
        {
          "output_type": "stream",
          "name": "stderr",
          "text": [
            "/usr/local/lib/python3.7/dist-packages/keras/optimizer_v2/rmsprop.py:130: UserWarning: The `lr` argument is deprecated, use `learning_rate` instead.\n",
            "  super(RMSprop, self).__init__(name, **kwargs)\n"
          ]
        }
      ]
    },
    {
      "cell_type": "code",
      "metadata": {
        "id": "ImZFafVANMP_",
        "colab": {
          "base_uri": "https://localhost:8080/"
        },
        "outputId": "0efe9e85-d069-4f11-d7e6-55a7b7b9136c"
      },
      "source": [
        "model.summary()"
      ],
      "execution_count": null,
      "outputs": [
        {
          "output_type": "stream",
          "name": "stdout",
          "text": [
            "Model: \"sequential\"\n",
            "_________________________________________________________________\n",
            " Layer (type)                Output Shape              Param #   \n",
            "=================================================================\n",
            " conv1d (Conv1D)             (None, 40, 64)            384       \n",
            "                                                                 \n",
            " activation (Activation)     (None, 40, 64)            0         \n",
            "                                                                 \n",
            " dropout (Dropout)           (None, 40, 64)            0         \n",
            "                                                                 \n",
            " max_pooling1d (MaxPooling1D  (None, 10, 64)           0         \n",
            " )                                                               \n",
            "                                                                 \n",
            " conv1d_1 (Conv1D)           (None, 10, 128)           41088     \n",
            "                                                                 \n",
            " activation_1 (Activation)   (None, 10, 128)           0         \n",
            "                                                                 \n",
            " dropout_1 (Dropout)         (None, 10, 128)           0         \n",
            "                                                                 \n",
            " max_pooling1d_1 (MaxPooling  (None, 2, 128)           0         \n",
            " 1D)                                                             \n",
            "                                                                 \n",
            " conv1d_2 (Conv1D)           (None, 2, 256)            164096    \n",
            "                                                                 \n",
            " activation_2 (Activation)   (None, 2, 256)            0         \n",
            "                                                                 \n",
            " dropout_2 (Dropout)         (None, 2, 256)            0         \n",
            "                                                                 \n",
            " flatten (Flatten)           (None, 512)               0         \n",
            "                                                                 \n",
            " dense (Dense)               (None, 8)                 4104      \n",
            "                                                                 \n",
            " activation_3 (Activation)   (None, 8)                 0         \n",
            "                                                                 \n",
            "=================================================================\n",
            "Total params: 209,672\n",
            "Trainable params: 209,672\n",
            "Non-trainable params: 0\n",
            "_________________________________________________________________\n"
          ]
        }
      ]
    },
    {
      "cell_type": "code",
      "metadata": {
        "id": "s8LuQtKzON7i"
      },
      "source": [
        "model.compile(loss='sparse_categorical_crossentropy',\n",
        "              optimizer=opt,\n",
        "              metrics=['accuracy'])"
      ],
      "execution_count": null,
      "outputs": []
    },
    {
      "cell_type": "code",
      "metadata": {
        "id": "cQKYfMONOow7",
        "colab": {
          "base_uri": "https://localhost:8080/"
        },
        "outputId": "b2e96748-73e9-4443-9f7c-c609e2ecbdb1"
      },
      "source": [
        "cnnhistory=model.fit(x_traincnn, y_train, batch_size=16, epochs=200, validation_data=(x_testcnn, y_test))"
      ],
      "execution_count": null,
      "outputs": [
        {
          "output_type": "stream",
          "name": "stdout",
          "text": [
            "Epoch 1/200\n",
            "212/212 [==============================] - 5s 17ms/step - loss: 3.7938 - accuracy: 0.2090 - val_loss: 1.4870 - val_accuracy: 0.4151\n",
            "Epoch 2/200\n",
            "212/212 [==============================] - 4s 17ms/step - loss: 2.2775 - accuracy: 0.3670 - val_loss: 1.2043 - val_accuracy: 0.5767\n",
            "Epoch 3/200\n",
            "212/212 [==============================] - 3s 16ms/step - loss: 1.6255 - accuracy: 0.4929 - val_loss: 1.0751 - val_accuracy: 0.6462\n",
            "Epoch 4/200\n",
            "212/212 [==============================] - 4s 17ms/step - loss: 1.4288 - accuracy: 0.5628 - val_loss: 1.0073 - val_accuracy: 0.6675\n",
            "Epoch 5/200\n",
            "212/212 [==============================] - 3s 16ms/step - loss: 1.2382 - accuracy: 0.6061 - val_loss: 0.9693 - val_accuracy: 0.6792\n",
            "Epoch 6/200\n",
            "212/212 [==============================] - 3s 16ms/step - loss: 1.1227 - accuracy: 0.6524 - val_loss: 0.9568 - val_accuracy: 0.6863\n",
            "Epoch 7/200\n",
            "212/212 [==============================] - 4s 17ms/step - loss: 1.0667 - accuracy: 0.6610 - val_loss: 0.8830 - val_accuracy: 0.6981\n",
            "Epoch 8/200\n",
            "212/212 [==============================] - 4s 17ms/step - loss: 1.0043 - accuracy: 0.6725 - val_loss: 0.8360 - val_accuracy: 0.7205\n",
            "Epoch 9/200\n",
            "212/212 [==============================] - 4s 17ms/step - loss: 0.9661 - accuracy: 0.6831 - val_loss: 0.8161 - val_accuracy: 0.7193\n",
            "Epoch 10/200\n",
            "212/212 [==============================] - 4s 17ms/step - loss: 0.9201 - accuracy: 0.6949 - val_loss: 0.8347 - val_accuracy: 0.7052\n",
            "Epoch 11/200\n",
            "212/212 [==============================] - 4s 17ms/step - loss: 0.8874 - accuracy: 0.7034 - val_loss: 0.7859 - val_accuracy: 0.7170\n",
            "Epoch 12/200\n",
            "212/212 [==============================] - 4s 17ms/step - loss: 0.8646 - accuracy: 0.7070 - val_loss: 0.7828 - val_accuracy: 0.7276\n",
            "Epoch 13/200\n",
            "212/212 [==============================] - 4s 17ms/step - loss: 0.8388 - accuracy: 0.7120 - val_loss: 0.7631 - val_accuracy: 0.7111\n",
            "Epoch 14/200\n",
            "212/212 [==============================] - 3s 16ms/step - loss: 0.8177 - accuracy: 0.7158 - val_loss: 0.7395 - val_accuracy: 0.7205\n",
            "Epoch 15/200\n",
            "212/212 [==============================] - 3s 16ms/step - loss: 0.7983 - accuracy: 0.7199 - val_loss: 0.7346 - val_accuracy: 0.7229\n",
            "Epoch 16/200\n",
            "212/212 [==============================] - 3s 16ms/step - loss: 0.7805 - accuracy: 0.7261 - val_loss: 0.7004 - val_accuracy: 0.7370\n",
            "Epoch 17/200\n",
            "212/212 [==============================] - 3s 17ms/step - loss: 0.7755 - accuracy: 0.7261 - val_loss: 0.6873 - val_accuracy: 0.7524\n",
            "Epoch 18/200\n",
            "212/212 [==============================] - 3s 16ms/step - loss: 0.7676 - accuracy: 0.7270 - val_loss: 0.6834 - val_accuracy: 0.7358\n",
            "Epoch 19/200\n",
            "212/212 [==============================] - 4s 17ms/step - loss: 0.7405 - accuracy: 0.7326 - val_loss: 0.6746 - val_accuracy: 0.7500\n",
            "Epoch 20/200\n",
            "212/212 [==============================] - 4s 17ms/step - loss: 0.7260 - accuracy: 0.7382 - val_loss: 0.6900 - val_accuracy: 0.7335\n",
            "Epoch 21/200\n",
            "212/212 [==============================] - 3s 17ms/step - loss: 0.7169 - accuracy: 0.7397 - val_loss: 0.6752 - val_accuracy: 0.7476\n",
            "Epoch 22/200\n",
            "212/212 [==============================] - 3s 16ms/step - loss: 0.7226 - accuracy: 0.7376 - val_loss: 0.6522 - val_accuracy: 0.7606\n",
            "Epoch 23/200\n",
            "212/212 [==============================] - 4s 17ms/step - loss: 0.7014 - accuracy: 0.7423 - val_loss: 0.6568 - val_accuracy: 0.7642\n",
            "Epoch 24/200\n",
            "212/212 [==============================] - 4s 17ms/step - loss: 0.6957 - accuracy: 0.7518 - val_loss: 0.6372 - val_accuracy: 0.7618\n",
            "Epoch 25/200\n",
            "212/212 [==============================] - 4s 17ms/step - loss: 0.6814 - accuracy: 0.7515 - val_loss: 0.6517 - val_accuracy: 0.7571\n",
            "Epoch 26/200\n",
            "212/212 [==============================] - 4s 17ms/step - loss: 0.6841 - accuracy: 0.7471 - val_loss: 0.6493 - val_accuracy: 0.7535\n",
            "Epoch 27/200\n",
            "212/212 [==============================] - 4s 17ms/step - loss: 0.6702 - accuracy: 0.7503 - val_loss: 0.6277 - val_accuracy: 0.7642\n",
            "Epoch 28/200\n",
            "212/212 [==============================] - 4s 17ms/step - loss: 0.6715 - accuracy: 0.7471 - val_loss: 0.6440 - val_accuracy: 0.7559\n",
            "Epoch 29/200\n",
            "212/212 [==============================] - 4s 17ms/step - loss: 0.6642 - accuracy: 0.7494 - val_loss: 0.6338 - val_accuracy: 0.7665\n",
            "Epoch 30/200\n",
            "212/212 [==============================] - 4s 17ms/step - loss: 0.6577 - accuracy: 0.7577 - val_loss: 0.6270 - val_accuracy: 0.7571\n",
            "Epoch 31/200\n",
            "212/212 [==============================] - 4s 17ms/step - loss: 0.6462 - accuracy: 0.7597 - val_loss: 0.6196 - val_accuracy: 0.7748\n",
            "Epoch 32/200\n",
            "212/212 [==============================] - 4s 17ms/step - loss: 0.6430 - accuracy: 0.7606 - val_loss: 0.6178 - val_accuracy: 0.7759\n",
            "Epoch 33/200\n",
            "212/212 [==============================] - 4s 17ms/step - loss: 0.6476 - accuracy: 0.7659 - val_loss: 0.6095 - val_accuracy: 0.7783\n",
            "Epoch 34/200\n",
            "212/212 [==============================] - 4s 17ms/step - loss: 0.6408 - accuracy: 0.7588 - val_loss: 0.6170 - val_accuracy: 0.7842\n",
            "Epoch 35/200\n",
            "212/212 [==============================] - 4s 17ms/step - loss: 0.6420 - accuracy: 0.7644 - val_loss: 0.6134 - val_accuracy: 0.7877\n",
            "Epoch 36/200\n",
            "212/212 [==============================] - 4s 17ms/step - loss: 0.6370 - accuracy: 0.7650 - val_loss: 0.6057 - val_accuracy: 0.7807\n",
            "Epoch 37/200\n",
            "212/212 [==============================] - 4s 17ms/step - loss: 0.6284 - accuracy: 0.7656 - val_loss: 0.6082 - val_accuracy: 0.7783\n",
            "Epoch 38/200\n",
            "212/212 [==============================] - 4s 17ms/step - loss: 0.6282 - accuracy: 0.7653 - val_loss: 0.6054 - val_accuracy: 0.7807\n",
            "Epoch 39/200\n",
            "212/212 [==============================] - 4s 17ms/step - loss: 0.6169 - accuracy: 0.7715 - val_loss: 0.5853 - val_accuracy: 0.7901\n",
            "Epoch 40/200\n",
            "212/212 [==============================] - 4s 17ms/step - loss: 0.6063 - accuracy: 0.7745 - val_loss: 0.5915 - val_accuracy: 0.7995\n",
            "Epoch 41/200\n",
            "212/212 [==============================] - 4s 17ms/step - loss: 0.6076 - accuracy: 0.7718 - val_loss: 0.5862 - val_accuracy: 0.7830\n",
            "Epoch 42/200\n",
            "212/212 [==============================] - 4s 17ms/step - loss: 0.6160 - accuracy: 0.7703 - val_loss: 0.5789 - val_accuracy: 0.7877\n",
            "Epoch 43/200\n",
            "212/212 [==============================] - 4s 17ms/step - loss: 0.5942 - accuracy: 0.7718 - val_loss: 0.5960 - val_accuracy: 0.7925\n",
            "Epoch 44/200\n",
            "212/212 [==============================] - 4s 17ms/step - loss: 0.5940 - accuracy: 0.7771 - val_loss: 0.5793 - val_accuracy: 0.7854\n",
            "Epoch 45/200\n",
            "212/212 [==============================] - 4s 17ms/step - loss: 0.5992 - accuracy: 0.7783 - val_loss: 0.5789 - val_accuracy: 0.7995\n",
            "Epoch 46/200\n",
            "212/212 [==============================] - 4s 17ms/step - loss: 0.5851 - accuracy: 0.7815 - val_loss: 0.5675 - val_accuracy: 0.7889\n",
            "Epoch 47/200\n",
            "212/212 [==============================] - 4s 17ms/step - loss: 0.5880 - accuracy: 0.7839 - val_loss: 0.5712 - val_accuracy: 0.8007\n",
            "Epoch 48/200\n",
            "212/212 [==============================] - 4s 17ms/step - loss: 0.5753 - accuracy: 0.7812 - val_loss: 0.5653 - val_accuracy: 0.8019\n",
            "Epoch 49/200\n",
            "212/212 [==============================] - 4s 17ms/step - loss: 0.5847 - accuracy: 0.7807 - val_loss: 0.5610 - val_accuracy: 0.7925\n",
            "Epoch 50/200\n",
            "212/212 [==============================] - 4s 17ms/step - loss: 0.5850 - accuracy: 0.7765 - val_loss: 0.5646 - val_accuracy: 0.7901\n",
            "Epoch 51/200\n",
            "212/212 [==============================] - 4s 17ms/step - loss: 0.5786 - accuracy: 0.7821 - val_loss: 0.5639 - val_accuracy: 0.7972\n",
            "Epoch 52/200\n",
            "212/212 [==============================] - 4s 17ms/step - loss: 0.5713 - accuracy: 0.7866 - val_loss: 0.5536 - val_accuracy: 0.7948\n",
            "Epoch 53/200\n",
            "212/212 [==============================] - 4s 17ms/step - loss: 0.5763 - accuracy: 0.7815 - val_loss: 0.5672 - val_accuracy: 0.7925\n",
            "Epoch 54/200\n",
            "212/212 [==============================] - 4s 17ms/step - loss: 0.5740 - accuracy: 0.7869 - val_loss: 0.5518 - val_accuracy: 0.7948\n",
            "Epoch 55/200\n",
            "212/212 [==============================] - 4s 17ms/step - loss: 0.5588 - accuracy: 0.7919 - val_loss: 0.5436 - val_accuracy: 0.7995\n",
            "Epoch 56/200\n",
            "212/212 [==============================] - 4s 17ms/step - loss: 0.5599 - accuracy: 0.7895 - val_loss: 0.5451 - val_accuracy: 0.8054\n",
            "Epoch 57/200\n",
            "212/212 [==============================] - 4s 17ms/step - loss: 0.5570 - accuracy: 0.7895 - val_loss: 0.5556 - val_accuracy: 0.8031\n",
            "Epoch 58/200\n",
            "212/212 [==============================] - 4s 18ms/step - loss: 0.5543 - accuracy: 0.7945 - val_loss: 0.5538 - val_accuracy: 0.7948\n",
            "Epoch 59/200\n",
            "212/212 [==============================] - 4s 18ms/step - loss: 0.5528 - accuracy: 0.7930 - val_loss: 0.5476 - val_accuracy: 0.8101\n",
            "Epoch 60/200\n",
            "212/212 [==============================] - 4s 17ms/step - loss: 0.5505 - accuracy: 0.7960 - val_loss: 0.5386 - val_accuracy: 0.8054\n",
            "Epoch 61/200\n",
            "212/212 [==============================] - 4s 17ms/step - loss: 0.5519 - accuracy: 0.7948 - val_loss: 0.5262 - val_accuracy: 0.8031\n",
            "Epoch 62/200\n",
            "212/212 [==============================] - 4s 17ms/step - loss: 0.5443 - accuracy: 0.7975 - val_loss: 0.5370 - val_accuracy: 0.8007\n",
            "Epoch 63/200\n",
            "212/212 [==============================] - 4s 17ms/step - loss: 0.5406 - accuracy: 0.8004 - val_loss: 0.5407 - val_accuracy: 0.8066\n",
            "Epoch 64/200\n",
            "212/212 [==============================] - 4s 17ms/step - loss: 0.5441 - accuracy: 0.7981 - val_loss: 0.5324 - val_accuracy: 0.8090\n",
            "Epoch 65/200\n",
            "212/212 [==============================] - 4s 17ms/step - loss: 0.5301 - accuracy: 0.8010 - val_loss: 0.5269 - val_accuracy: 0.8042\n",
            "Epoch 66/200\n",
            "212/212 [==============================] - 4s 17ms/step - loss: 0.5349 - accuracy: 0.7942 - val_loss: 0.5194 - val_accuracy: 0.8101\n",
            "Epoch 67/200\n",
            "212/212 [==============================] - 4s 17ms/step - loss: 0.5320 - accuracy: 0.8042 - val_loss: 0.5280 - val_accuracy: 0.8054\n",
            "Epoch 68/200\n",
            "212/212 [==============================] - 4s 17ms/step - loss: 0.5368 - accuracy: 0.7969 - val_loss: 0.5169 - val_accuracy: 0.8125\n",
            "Epoch 69/200\n",
            "212/212 [==============================] - 4s 17ms/step - loss: 0.5253 - accuracy: 0.8037 - val_loss: 0.5204 - val_accuracy: 0.8172\n",
            "Epoch 70/200\n",
            "212/212 [==============================] - 4s 18ms/step - loss: 0.5239 - accuracy: 0.8048 - val_loss: 0.5146 - val_accuracy: 0.8113\n",
            "Epoch 71/200\n",
            "212/212 [==============================] - 4s 17ms/step - loss: 0.5341 - accuracy: 0.7972 - val_loss: 0.5254 - val_accuracy: 0.8054\n",
            "Epoch 72/200\n",
            "212/212 [==============================] - 4s 17ms/step - loss: 0.5123 - accuracy: 0.8187 - val_loss: 0.5381 - val_accuracy: 0.8101\n",
            "Epoch 73/200\n",
            "212/212 [==============================] - 4s 17ms/step - loss: 0.5222 - accuracy: 0.8066 - val_loss: 0.5279 - val_accuracy: 0.8125\n",
            "Epoch 74/200\n",
            "212/212 [==============================] - 4s 17ms/step - loss: 0.5170 - accuracy: 0.8087 - val_loss: 0.5245 - val_accuracy: 0.8090\n",
            "Epoch 75/200\n",
            "212/212 [==============================] - 4s 17ms/step - loss: 0.5109 - accuracy: 0.8149 - val_loss: 0.5228 - val_accuracy: 0.8149\n",
            "Epoch 76/200\n",
            "212/212 [==============================] - 4s 18ms/step - loss: 0.5004 - accuracy: 0.8104 - val_loss: 0.5332 - val_accuracy: 0.7983\n",
            "Epoch 77/200\n",
            "212/212 [==============================] - 4s 17ms/step - loss: 0.5060 - accuracy: 0.8131 - val_loss: 0.5057 - val_accuracy: 0.8149\n",
            "Epoch 78/200\n",
            "212/212 [==============================] - 4s 18ms/step - loss: 0.5113 - accuracy: 0.8066 - val_loss: 0.5209 - val_accuracy: 0.8172\n",
            "Epoch 79/200\n",
            "212/212 [==============================] - 4s 17ms/step - loss: 0.5137 - accuracy: 0.8107 - val_loss: 0.5189 - val_accuracy: 0.8054\n",
            "Epoch 80/200\n",
            "212/212 [==============================] - 4s 17ms/step - loss: 0.5131 - accuracy: 0.8051 - val_loss: 0.5105 - val_accuracy: 0.8090\n",
            "Epoch 81/200\n",
            "212/212 [==============================] - 4s 17ms/step - loss: 0.4991 - accuracy: 0.8175 - val_loss: 0.5126 - val_accuracy: 0.7995\n",
            "Epoch 82/200\n",
            "212/212 [==============================] - 4s 17ms/step - loss: 0.4964 - accuracy: 0.8154 - val_loss: 0.4976 - val_accuracy: 0.8196\n",
            "Epoch 83/200\n",
            "212/212 [==============================] - 4s 17ms/step - loss: 0.4913 - accuracy: 0.8178 - val_loss: 0.5096 - val_accuracy: 0.8113\n",
            "Epoch 84/200\n",
            "212/212 [==============================] - 4s 17ms/step - loss: 0.4976 - accuracy: 0.8172 - val_loss: 0.4994 - val_accuracy: 0.8196\n",
            "Epoch 85/200\n",
            "212/212 [==============================] - 4s 17ms/step - loss: 0.4987 - accuracy: 0.8122 - val_loss: 0.4937 - val_accuracy: 0.8267\n",
            "Epoch 86/200\n",
            "212/212 [==============================] - 4s 17ms/step - loss: 0.4875 - accuracy: 0.8243 - val_loss: 0.5106 - val_accuracy: 0.8054\n",
            "Epoch 87/200\n",
            "212/212 [==============================] - 4s 17ms/step - loss: 0.4880 - accuracy: 0.8228 - val_loss: 0.4961 - val_accuracy: 0.8184\n",
            "Epoch 88/200\n",
            "212/212 [==============================] - 4s 17ms/step - loss: 0.4798 - accuracy: 0.8243 - val_loss: 0.5016 - val_accuracy: 0.8208\n",
            "Epoch 89/200\n",
            "212/212 [==============================] - 4s 17ms/step - loss: 0.4902 - accuracy: 0.8184 - val_loss: 0.4970 - val_accuracy: 0.8184\n",
            "Epoch 90/200\n",
            "212/212 [==============================] - 4s 17ms/step - loss: 0.4804 - accuracy: 0.8231 - val_loss: 0.4981 - val_accuracy: 0.8208\n",
            "Epoch 91/200\n",
            "212/212 [==============================] - 4s 17ms/step - loss: 0.4781 - accuracy: 0.8231 - val_loss: 0.4853 - val_accuracy: 0.8243\n",
            "Epoch 92/200\n",
            "212/212 [==============================] - 4s 17ms/step - loss: 0.4739 - accuracy: 0.8228 - val_loss: 0.4853 - val_accuracy: 0.8278\n",
            "Epoch 93/200\n",
            "212/212 [==============================] - 4s 17ms/step - loss: 0.4672 - accuracy: 0.8302 - val_loss: 0.4918 - val_accuracy: 0.8255\n",
            "Epoch 94/200\n",
            "212/212 [==============================] - 4s 18ms/step - loss: 0.4774 - accuracy: 0.8205 - val_loss: 0.5042 - val_accuracy: 0.8231\n",
            "Epoch 95/200\n",
            "212/212 [==============================] - 4s 17ms/step - loss: 0.4745 - accuracy: 0.8240 - val_loss: 0.4903 - val_accuracy: 0.8172\n",
            "Epoch 96/200\n",
            "212/212 [==============================] - 4s 17ms/step - loss: 0.4695 - accuracy: 0.8225 - val_loss: 0.4819 - val_accuracy: 0.8290\n",
            "Epoch 97/200\n",
            "212/212 [==============================] - 4s 17ms/step - loss: 0.4512 - accuracy: 0.8361 - val_loss: 0.4911 - val_accuracy: 0.8125\n",
            "Epoch 98/200\n",
            "212/212 [==============================] - 4s 17ms/step - loss: 0.4630 - accuracy: 0.8267 - val_loss: 0.4750 - val_accuracy: 0.8325\n",
            "Epoch 99/200\n",
            "212/212 [==============================] - 4s 17ms/step - loss: 0.4568 - accuracy: 0.8325 - val_loss: 0.4901 - val_accuracy: 0.8196\n",
            "Epoch 100/200\n",
            "212/212 [==============================] - 4s 17ms/step - loss: 0.4562 - accuracy: 0.8323 - val_loss: 0.4727 - val_accuracy: 0.8219\n",
            "Epoch 101/200\n",
            "212/212 [==============================] - 4s 17ms/step - loss: 0.4501 - accuracy: 0.8287 - val_loss: 0.4737 - val_accuracy: 0.8184\n",
            "Epoch 102/200\n",
            "212/212 [==============================] - 4s 18ms/step - loss: 0.4538 - accuracy: 0.8343 - val_loss: 0.4873 - val_accuracy: 0.8243\n",
            "Epoch 103/200\n",
            "212/212 [==============================] - 4s 17ms/step - loss: 0.4496 - accuracy: 0.8334 - val_loss: 0.4776 - val_accuracy: 0.8255\n",
            "Epoch 104/200\n",
            "212/212 [==============================] - 4s 17ms/step - loss: 0.4337 - accuracy: 0.8311 - val_loss: 0.4785 - val_accuracy: 0.8172\n",
            "Epoch 105/200\n",
            "212/212 [==============================] - 4s 17ms/step - loss: 0.4459 - accuracy: 0.8361 - val_loss: 0.4826 - val_accuracy: 0.8314\n",
            "Epoch 106/200\n",
            "212/212 [==============================] - 4s 17ms/step - loss: 0.4461 - accuracy: 0.8352 - val_loss: 0.4833 - val_accuracy: 0.8219\n",
            "Epoch 107/200\n",
            "212/212 [==============================] - 4s 18ms/step - loss: 0.4347 - accuracy: 0.8405 - val_loss: 0.4851 - val_accuracy: 0.8137\n",
            "Epoch 108/200\n",
            "212/212 [==============================] - 4s 17ms/step - loss: 0.4401 - accuracy: 0.8361 - val_loss: 0.4700 - val_accuracy: 0.8302\n",
            "Epoch 109/200\n",
            "212/212 [==============================] - 4s 17ms/step - loss: 0.4349 - accuracy: 0.8337 - val_loss: 0.4668 - val_accuracy: 0.8278\n",
            "Epoch 110/200\n",
            "212/212 [==============================] - 4s 17ms/step - loss: 0.4369 - accuracy: 0.8414 - val_loss: 0.4626 - val_accuracy: 0.8373\n",
            "Epoch 111/200\n",
            "212/212 [==============================] - 4s 17ms/step - loss: 0.4279 - accuracy: 0.8390 - val_loss: 0.4735 - val_accuracy: 0.8349\n",
            "Epoch 112/200\n",
            "212/212 [==============================] - 4s 18ms/step - loss: 0.4330 - accuracy: 0.8417 - val_loss: 0.4799 - val_accuracy: 0.8219\n",
            "Epoch 113/200\n",
            "212/212 [==============================] - 4s 17ms/step - loss: 0.4298 - accuracy: 0.8408 - val_loss: 0.4855 - val_accuracy: 0.8243\n",
            "Epoch 114/200\n",
            "212/212 [==============================] - 4s 17ms/step - loss: 0.4257 - accuracy: 0.8440 - val_loss: 0.4706 - val_accuracy: 0.8337\n",
            "Epoch 115/200\n",
            "212/212 [==============================] - 4s 18ms/step - loss: 0.4226 - accuracy: 0.8446 - val_loss: 0.4632 - val_accuracy: 0.8349\n",
            "Epoch 116/200\n",
            "212/212 [==============================] - 4s 17ms/step - loss: 0.4200 - accuracy: 0.8405 - val_loss: 0.4741 - val_accuracy: 0.8314\n",
            "Epoch 117/200\n",
            "212/212 [==============================] - 4s 17ms/step - loss: 0.4230 - accuracy: 0.8488 - val_loss: 0.4761 - val_accuracy: 0.8290\n",
            "Epoch 118/200\n",
            "212/212 [==============================] - 4s 17ms/step - loss: 0.4187 - accuracy: 0.8461 - val_loss: 0.4707 - val_accuracy: 0.8325\n",
            "Epoch 119/200\n",
            "212/212 [==============================] - 4s 18ms/step - loss: 0.4164 - accuracy: 0.8423 - val_loss: 0.4610 - val_accuracy: 0.8396\n",
            "Epoch 120/200\n",
            "212/212 [==============================] - 4s 17ms/step - loss: 0.4112 - accuracy: 0.8541 - val_loss: 0.4667 - val_accuracy: 0.8290\n",
            "Epoch 121/200\n",
            "212/212 [==============================] - 4s 18ms/step - loss: 0.4138 - accuracy: 0.8511 - val_loss: 0.4677 - val_accuracy: 0.8278\n",
            "Epoch 122/200\n",
            "212/212 [==============================] - 4s 17ms/step - loss: 0.4113 - accuracy: 0.8502 - val_loss: 0.4701 - val_accuracy: 0.8184\n",
            "Epoch 123/200\n",
            "212/212 [==============================] - 4s 17ms/step - loss: 0.4092 - accuracy: 0.8547 - val_loss: 0.4525 - val_accuracy: 0.8384\n",
            "Epoch 124/200\n",
            "212/212 [==============================] - 4s 18ms/step - loss: 0.4189 - accuracy: 0.8449 - val_loss: 0.4569 - val_accuracy: 0.8384\n",
            "Epoch 125/200\n",
            "212/212 [==============================] - 4s 17ms/step - loss: 0.3961 - accuracy: 0.8579 - val_loss: 0.4636 - val_accuracy: 0.8267\n",
            "Epoch 126/200\n",
            "212/212 [==============================] - 4s 17ms/step - loss: 0.4007 - accuracy: 0.8529 - val_loss: 0.4827 - val_accuracy: 0.8149\n",
            "Epoch 127/200\n",
            "212/212 [==============================] - 4s 18ms/step - loss: 0.3944 - accuracy: 0.8614 - val_loss: 0.4479 - val_accuracy: 0.8337\n",
            "Epoch 128/200\n",
            "212/212 [==============================] - 4s 17ms/step - loss: 0.3961 - accuracy: 0.8561 - val_loss: 0.4475 - val_accuracy: 0.8337\n",
            "Epoch 129/200\n",
            "212/212 [==============================] - 4s 17ms/step - loss: 0.3902 - accuracy: 0.8600 - val_loss: 0.4534 - val_accuracy: 0.8361\n",
            "Epoch 130/200\n",
            "212/212 [==============================] - 4s 18ms/step - loss: 0.3965 - accuracy: 0.8579 - val_loss: 0.4574 - val_accuracy: 0.8302\n",
            "Epoch 131/200\n",
            "212/212 [==============================] - 4s 18ms/step - loss: 0.3965 - accuracy: 0.8529 - val_loss: 0.4650 - val_accuracy: 0.8337\n",
            "Epoch 132/200\n",
            "212/212 [==============================] - 4s 18ms/step - loss: 0.3892 - accuracy: 0.8588 - val_loss: 0.4511 - val_accuracy: 0.8408\n",
            "Epoch 133/200\n",
            "212/212 [==============================] - 4s 18ms/step - loss: 0.3958 - accuracy: 0.8541 - val_loss: 0.4530 - val_accuracy: 0.8384\n",
            "Epoch 134/200\n",
            "212/212 [==============================] - 4s 17ms/step - loss: 0.3905 - accuracy: 0.8564 - val_loss: 0.4611 - val_accuracy: 0.8361\n",
            "Epoch 135/200\n",
            "212/212 [==============================] - 4s 18ms/step - loss: 0.3903 - accuracy: 0.8544 - val_loss: 0.4770 - val_accuracy: 0.8278\n",
            "Epoch 136/200\n",
            "212/212 [==============================] - 4s 17ms/step - loss: 0.3834 - accuracy: 0.8579 - val_loss: 0.4591 - val_accuracy: 0.8373\n",
            "Epoch 137/200\n",
            "212/212 [==============================] - 4s 17ms/step - loss: 0.3879 - accuracy: 0.8603 - val_loss: 0.4387 - val_accuracy: 0.8443\n",
            "Epoch 138/200\n",
            "212/212 [==============================] - 4s 17ms/step - loss: 0.3789 - accuracy: 0.8579 - val_loss: 0.4544 - val_accuracy: 0.8373\n",
            "Epoch 139/200\n",
            "212/212 [==============================] - 4s 18ms/step - loss: 0.3720 - accuracy: 0.8606 - val_loss: 0.4525 - val_accuracy: 0.8255\n",
            "Epoch 140/200\n",
            "212/212 [==============================] - 4s 19ms/step - loss: 0.3601 - accuracy: 0.8659 - val_loss: 0.4462 - val_accuracy: 0.8408\n",
            "Epoch 141/200\n",
            "212/212 [==============================] - 4s 18ms/step - loss: 0.3790 - accuracy: 0.8570 - val_loss: 0.4544 - val_accuracy: 0.8337\n",
            "Epoch 142/200\n",
            "212/212 [==============================] - 4s 17ms/step - loss: 0.3748 - accuracy: 0.8685 - val_loss: 0.4530 - val_accuracy: 0.8455\n",
            "Epoch 143/200\n",
            "212/212 [==============================] - 4s 17ms/step - loss: 0.3751 - accuracy: 0.8608 - val_loss: 0.4378 - val_accuracy: 0.8384\n",
            "Epoch 144/200\n",
            "212/212 [==============================] - 4s 18ms/step - loss: 0.3584 - accuracy: 0.8670 - val_loss: 0.4517 - val_accuracy: 0.8455\n",
            "Epoch 145/200\n",
            "212/212 [==============================] - 4s 18ms/step - loss: 0.3635 - accuracy: 0.8644 - val_loss: 0.4356 - val_accuracy: 0.8467\n",
            "Epoch 146/200\n",
            "212/212 [==============================] - 4s 17ms/step - loss: 0.3581 - accuracy: 0.8709 - val_loss: 0.4446 - val_accuracy: 0.8373\n",
            "Epoch 147/200\n",
            "212/212 [==============================] - 4s 18ms/step - loss: 0.3716 - accuracy: 0.8650 - val_loss: 0.4388 - val_accuracy: 0.8455\n",
            "Epoch 148/200\n",
            "212/212 [==============================] - 4s 18ms/step - loss: 0.3504 - accuracy: 0.8694 - val_loss: 0.4571 - val_accuracy: 0.8290\n",
            "Epoch 149/200\n",
            "212/212 [==============================] - 4s 18ms/step - loss: 0.3619 - accuracy: 0.8688 - val_loss: 0.4571 - val_accuracy: 0.8302\n",
            "Epoch 150/200\n",
            "212/212 [==============================] - 4s 17ms/step - loss: 0.3575 - accuracy: 0.8741 - val_loss: 0.4496 - val_accuracy: 0.8361\n",
            "Epoch 151/200\n",
            "212/212 [==============================] - 4s 18ms/step - loss: 0.3543 - accuracy: 0.8662 - val_loss: 0.4458 - val_accuracy: 0.8491\n",
            "Epoch 152/200\n",
            "212/212 [==============================] - 4s 17ms/step - loss: 0.3466 - accuracy: 0.8779 - val_loss: 0.4338 - val_accuracy: 0.8502\n",
            "Epoch 153/200\n",
            "212/212 [==============================] - 4s 18ms/step - loss: 0.3411 - accuracy: 0.8753 - val_loss: 0.4344 - val_accuracy: 0.8384\n",
            "Epoch 154/200\n",
            "212/212 [==============================] - 4s 18ms/step - loss: 0.3502 - accuracy: 0.8747 - val_loss: 0.4343 - val_accuracy: 0.8455\n",
            "Epoch 155/200\n",
            "212/212 [==============================] - 4s 19ms/step - loss: 0.3535 - accuracy: 0.8653 - val_loss: 0.4307 - val_accuracy: 0.8408\n",
            "Epoch 156/200\n",
            "212/212 [==============================] - 4s 18ms/step - loss: 0.3423 - accuracy: 0.8815 - val_loss: 0.4392 - val_accuracy: 0.8420\n",
            "Epoch 157/200\n",
            "212/212 [==============================] - 4s 18ms/step - loss: 0.3355 - accuracy: 0.8747 - val_loss: 0.4227 - val_accuracy: 0.8420\n",
            "Epoch 158/200\n",
            "212/212 [==============================] - 4s 17ms/step - loss: 0.3408 - accuracy: 0.8800 - val_loss: 0.4289 - val_accuracy: 0.8491\n",
            "Epoch 159/200\n",
            "212/212 [==============================] - 4s 18ms/step - loss: 0.3336 - accuracy: 0.8788 - val_loss: 0.4237 - val_accuracy: 0.8455\n",
            "Epoch 160/200\n",
            "212/212 [==============================] - 4s 18ms/step - loss: 0.3433 - accuracy: 0.8779 - val_loss: 0.4255 - val_accuracy: 0.8455\n",
            "Epoch 161/200\n",
            "212/212 [==============================] - 4s 18ms/step - loss: 0.3379 - accuracy: 0.8759 - val_loss: 0.4308 - val_accuracy: 0.8384\n",
            "Epoch 162/200\n",
            "212/212 [==============================] - 4s 18ms/step - loss: 0.3284 - accuracy: 0.8853 - val_loss: 0.4267 - val_accuracy: 0.8561\n",
            "Epoch 163/200\n",
            "212/212 [==============================] - 4s 18ms/step - loss: 0.3263 - accuracy: 0.8830 - val_loss: 0.4218 - val_accuracy: 0.8443\n",
            "Epoch 164/200\n",
            "212/212 [==============================] - 4s 18ms/step - loss: 0.3302 - accuracy: 0.8785 - val_loss: 0.4229 - val_accuracy: 0.8443\n",
            "Epoch 165/200\n",
            "212/212 [==============================] - 4s 18ms/step - loss: 0.3208 - accuracy: 0.8886 - val_loss: 0.4296 - val_accuracy: 0.8526\n",
            "Epoch 166/200\n",
            "212/212 [==============================] - 4s 18ms/step - loss: 0.3310 - accuracy: 0.8824 - val_loss: 0.4366 - val_accuracy: 0.8561\n",
            "Epoch 167/200\n",
            "212/212 [==============================] - 4s 18ms/step - loss: 0.3338 - accuracy: 0.8779 - val_loss: 0.4207 - val_accuracy: 0.8491\n",
            "Epoch 168/200\n",
            "212/212 [==============================] - 4s 18ms/step - loss: 0.3227 - accuracy: 0.8859 - val_loss: 0.4299 - val_accuracy: 0.8502\n",
            "Epoch 169/200\n",
            "212/212 [==============================] - 4s 18ms/step - loss: 0.3238 - accuracy: 0.8827 - val_loss: 0.4311 - val_accuracy: 0.8479\n",
            "Epoch 170/200\n",
            "212/212 [==============================] - 4s 18ms/step - loss: 0.3169 - accuracy: 0.8865 - val_loss: 0.4290 - val_accuracy: 0.8514\n",
            "Epoch 171/200\n",
            "212/212 [==============================] - 4s 18ms/step - loss: 0.3120 - accuracy: 0.8918 - val_loss: 0.4257 - val_accuracy: 0.8408\n",
            "Epoch 172/200\n",
            "212/212 [==============================] - 4s 18ms/step - loss: 0.3211 - accuracy: 0.8791 - val_loss: 0.4209 - val_accuracy: 0.8585\n",
            "Epoch 173/200\n",
            "212/212 [==============================] - 4s 18ms/step - loss: 0.3084 - accuracy: 0.8906 - val_loss: 0.4321 - val_accuracy: 0.8455\n",
            "Epoch 174/200\n",
            "212/212 [==============================] - 4s 18ms/step - loss: 0.3271 - accuracy: 0.8827 - val_loss: 0.4195 - val_accuracy: 0.8479\n",
            "Epoch 175/200\n",
            "212/212 [==============================] - 4s 18ms/step - loss: 0.3094 - accuracy: 0.8868 - val_loss: 0.4192 - val_accuracy: 0.8550\n",
            "Epoch 176/200\n",
            "212/212 [==============================] - 4s 17ms/step - loss: 0.2908 - accuracy: 0.8965 - val_loss: 0.4153 - val_accuracy: 0.8573\n",
            "Epoch 177/200\n",
            "212/212 [==============================] - 4s 18ms/step - loss: 0.3086 - accuracy: 0.8892 - val_loss: 0.4272 - val_accuracy: 0.8561\n",
            "Epoch 178/200\n",
            "212/212 [==============================] - 4s 18ms/step - loss: 0.3106 - accuracy: 0.8903 - val_loss: 0.4147 - val_accuracy: 0.8479\n",
            "Epoch 179/200\n",
            "212/212 [==============================] - 4s 18ms/step - loss: 0.3087 - accuracy: 0.8847 - val_loss: 0.4191 - val_accuracy: 0.8479\n",
            "Epoch 180/200\n",
            "212/212 [==============================] - 4s 18ms/step - loss: 0.3023 - accuracy: 0.8856 - val_loss: 0.4193 - val_accuracy: 0.8526\n",
            "Epoch 181/200\n",
            "212/212 [==============================] - 4s 18ms/step - loss: 0.3005 - accuracy: 0.8936 - val_loss: 0.4146 - val_accuracy: 0.8526\n",
            "Epoch 182/200\n",
            "212/212 [==============================] - 4s 18ms/step - loss: 0.2947 - accuracy: 0.8933 - val_loss: 0.4235 - val_accuracy: 0.8432\n",
            "Epoch 183/200\n",
            "212/212 [==============================] - 4s 18ms/step - loss: 0.2888 - accuracy: 0.8983 - val_loss: 0.4049 - val_accuracy: 0.8585\n",
            "Epoch 184/200\n",
            "212/212 [==============================] - 4s 18ms/step - loss: 0.3007 - accuracy: 0.8894 - val_loss: 0.4181 - val_accuracy: 0.8573\n",
            "Epoch 185/200\n",
            "212/212 [==============================] - 4s 18ms/step - loss: 0.3029 - accuracy: 0.8886 - val_loss: 0.4099 - val_accuracy: 0.8514\n",
            "Epoch 186/200\n",
            "212/212 [==============================] - 4s 18ms/step - loss: 0.2937 - accuracy: 0.8980 - val_loss: 0.4157 - val_accuracy: 0.8608\n",
            "Epoch 187/200\n",
            "212/212 [==============================] - 4s 18ms/step - loss: 0.2983 - accuracy: 0.8942 - val_loss: 0.4179 - val_accuracy: 0.8550\n",
            "Epoch 188/200\n",
            "212/212 [==============================] - 4s 18ms/step - loss: 0.2944 - accuracy: 0.8939 - val_loss: 0.4267 - val_accuracy: 0.8491\n",
            "Epoch 189/200\n",
            "212/212 [==============================] - 4s 18ms/step - loss: 0.3022 - accuracy: 0.8921 - val_loss: 0.4026 - val_accuracy: 0.8656\n",
            "Epoch 190/200\n",
            "212/212 [==============================] - 4s 18ms/step - loss: 0.2861 - accuracy: 0.8980 - val_loss: 0.4043 - val_accuracy: 0.8632\n",
            "Epoch 191/200\n",
            "212/212 [==============================] - 4s 18ms/step - loss: 0.2850 - accuracy: 0.9006 - val_loss: 0.4105 - val_accuracy: 0.8573\n",
            "Epoch 192/200\n",
            "212/212 [==============================] - 4s 18ms/step - loss: 0.2931 - accuracy: 0.8965 - val_loss: 0.4085 - val_accuracy: 0.8538\n",
            "Epoch 193/200\n",
            "212/212 [==============================] - 4s 18ms/step - loss: 0.2868 - accuracy: 0.8989 - val_loss: 0.4119 - val_accuracy: 0.8644\n",
            "Epoch 194/200\n",
            "212/212 [==============================] - 4s 18ms/step - loss: 0.2822 - accuracy: 0.9027 - val_loss: 0.4081 - val_accuracy: 0.8502\n",
            "Epoch 195/200\n",
            "212/212 [==============================] - 4s 18ms/step - loss: 0.2895 - accuracy: 0.9004 - val_loss: 0.4326 - val_accuracy: 0.8526\n",
            "Epoch 196/200\n",
            "212/212 [==============================] - 4s 18ms/step - loss: 0.2796 - accuracy: 0.8986 - val_loss: 0.4124 - val_accuracy: 0.8561\n",
            "Epoch 197/200\n",
            "212/212 [==============================] - 4s 18ms/step - loss: 0.2738 - accuracy: 0.9033 - val_loss: 0.4142 - val_accuracy: 0.8479\n",
            "Epoch 198/200\n",
            "212/212 [==============================] - 4s 18ms/step - loss: 0.2800 - accuracy: 0.9001 - val_loss: 0.4165 - val_accuracy: 0.8502\n",
            "Epoch 199/200\n",
            "212/212 [==============================] - 4s 18ms/step - loss: 0.2821 - accuracy: 0.9012 - val_loss: 0.4013 - val_accuracy: 0.8573\n",
            "Epoch 200/200\n",
            "212/212 [==============================] - 4s 18ms/step - loss: 0.2720 - accuracy: 0.9033 - val_loss: 0.4212 - val_accuracy: 0.8514\n"
          ]
        }
      ]
    },
    {
      "cell_type": "code",
      "metadata": {
        "id": "WEomk3HUOwSz",
        "colab": {
          "base_uri": "https://localhost:8080/",
          "height": 295
        },
        "outputId": "3c185070-9839-4fc8-8b02-d7a8cde48846"
      },
      "source": [
        "plt.plot(cnnhistory.history['loss'])\n",
        "plt.plot(cnnhistory.history['val_loss'])\n",
        "plt.title('model loss')\n",
        "plt.ylabel('loss')\n",
        "plt.xlabel('epoch')\n",
        "plt.legend(['train', 'test'], loc='upper left')\n",
        "plt.show()"
      ],
      "execution_count": null,
      "outputs": [
        {
          "output_type": "display_data",
          "data": {
            "image/png": "[encoded data removed]",
            "text/plain": [
              "<Figure size 432x288 with 1 Axes>"
            ]
          },
          "metadata": {
            "needs_background": "light"
          }
        }
      ]
    },
    {
      "cell_type": "code",
      "metadata": {
        "id": "n4UNnOn80S_3",
        "colab": {
          "base_uri": "https://localhost:8080/",
          "height": 295
        },
        "outputId": "ff2ec38c-251a-440f-bda7-0708f151d817"
      },
      "source": [
        "plt.plot(cnnhistory.history['accuracy'])\n",
        "plt.plot(cnnhistory.history['val_accuracy'])\n",
        "plt.title('model accuracy')\n",
        "plt.ylabel('accuracy')\n",
        "plt.xlabel('epoch')\n",
        "plt.legend(['train', 'test'], loc='upper left')\n",
        "plt.show()"
      ],
      "execution_count": null,
      "outputs": [
        {
          "output_type": "display_data",
          "data": {
            "image/png": "[encoded data removed]",
            "text/plain": [
              "<Figure size 432x288 with 1 Axes>"
            ]
          },
          "metadata": {
            "needs_background": "light"
          }
        }
      ]
    },
    {
      "cell_type": "code",
      "metadata": {
        "id": "CSR0-VCVPO81"
      },
      "source": [
        "predict_x = model.predict(x_testcnn)\n",
        "predictions=np.argmax(predict_x,axis=1)"
      ],
      "execution_count": null,
      "outputs": []
    },
    {
      "cell_type": "code",
      "metadata": {
        "id": "FC1heRemQJHA"
      },
      "source": [
        "new_Ytest = y_test.astype(int)"
      ],
      "execution_count": null,
      "outputs": []
    },
    {
      "cell_type": "code",
      "metadata": {
        "id": "wK2gsnN-QO1C",
        "colab": {
          "base_uri": "https://localhost:8080/"
        },
        "outputId": "daac4aaa-4336-4bbf-f447-195f7009d323"
      },
      "source": [
        "from sklearn.metrics import classification_report\n",
        "report = classification_report(new_Ytest, predictions)\n",
        "print(report)"
      ],
      "execution_count": null,
      "outputs": [
        {
          "output_type": "stream",
          "name": "stdout",
          "text": [
            "              precision    recall  f1-score   support\n",
            "\n",
            "           0       0.99      0.84      0.91        90\n",
            "           1       0.62      0.82      0.70        45\n",
            "           2       0.77      0.83      0.80       109\n",
            "           3       0.84      0.85      0.84       123\n",
            "           4       0.93      0.91      0.92       109\n",
            "           5       0.89      0.85      0.87       120\n",
            "           6       0.93      0.82      0.87       146\n",
            "           7       0.79      0.90      0.84       106\n",
            "\n",
            "    accuracy                           0.85       848\n",
            "   macro avg       0.84      0.85      0.84       848\n",
            "weighted avg       0.86      0.85      0.85       848\n",
            "\n"
          ]
        }
      ]
    },
    {
      "cell_type": "code",
      "metadata": {
        "id": "XipKuFRTQSFj",
        "colab": {
          "base_uri": "https://localhost:8080/",
          "height": 295
        },
        "outputId": "739256a1-7b5f-4f65-ce1a-79fd0c849a22"
      },
      "source": [
        "from sklearn.metrics import confusion_matrix\n",
        "import seaborn as sb\n",
        "confusionMatrix = confusion_matrix(new_Ytest, predictions)\n",
        "sb.heatmap( confusionMatrix , annot = True )\n",
        "plt.ylabel('Predicated Label ')\n",
        "plt.xlabel('Actual Label ')\n",
        "plt.title('Confusion Matrix ')\n",
        "plt.show()\n",
        "\n",
        "# 0 = neutral, 1 = calm, 2 = happy, 3 = sad, 4 = angry, 5 = fearful, 6 = disgust, 7 = surprised"
      ],
      "execution_count": null,
      "outputs": [
        {
          "output_type": "display_data",
          "data": {
            "image/png": "[encoded data removed]",
            "text/plain": [
              "<Figure size 432x288 with 2 Axes>"
            ]
          },
          "metadata": {
            "needs_background": "light"
          }
        }
      ]
    },
    {
      "cell_type": "markdown",
      "metadata": {
        "id": "xZzmCnIRkDpl"
      },
      "source": [
        "### Average Pooling"
      ]
    },
    {
      "cell_type": "code",
      "metadata": {
        "colab": {
          "base_uri": "https://localhost:8080/"
        },
        "id": "LzA3dEdgkGir",
        "outputId": "2e60c702-b7cc-4cdc-8900-ed2eccaf14bc"
      },
      "source": [
        "import keras\n",
        "import numpy as np\n",
        "import matplotlib.pyplot as plt\n",
        "import tensorflow as tf\n",
        "from keras.preprocessing import sequence\n",
        "from keras.models import Sequential\n",
        "from keras.layers import Dense, Embedding\n",
        "from tensorflow.keras.utils import to_categorical\n",
        "from keras.layers import Input, Flatten, Dropout, Activation\n",
        "from keras.layers import Conv1D, MaxPooling1D, AveragePooling1D\n",
        "from keras.models import Model\n",
        "from keras.callbacks import ModelCheckpoint\n",
        "\n",
        "model = Sequential()\n",
        "\n",
        "model.add(Conv1D(64, 5,padding='same',\n",
        "                 input_shape=(40,1)))\n",
        "model.add(Activation('relu'))\n",
        "model.add(Dropout(0.1))\n",
        "model.add(AveragePooling1D(pool_size=(4)))\n",
        "model.add(Conv1D(128, 5,padding='same',))\n",
        "model.add(Activation('relu'))\n",
        "model.add(Dropout(0.1))\n",
        "model.add(AveragePooling1D(pool_size=(4)))\n",
        "model.add(Conv1D(256, 5,padding='same',))\n",
        "model.add(Activation('relu'))\n",
        "model.add(Dropout(0.1))\n",
        "model.add(Flatten())\n",
        "model.add(Dense(8))\n",
        "model.add(Activation('softmax'))\n",
        "opt = tf.keras.optimizers.RMSprop(lr=0.00005, rho=0.9, epsilon=1e-07, decay=0.0)"
      ],
      "execution_count": null,
      "outputs": [
        {
          "output_type": "stream",
          "name": "stderr",
          "text": [
            "/usr/local/lib/python3.7/dist-packages/keras/optimizer_v2/rmsprop.py:130: UserWarning: The `lr` argument is deprecated, use `learning_rate` instead.\n",
            "  super(RMSprop, self).__init__(name, **kwargs)\n"
          ]
        }
      ]
    },
    {
      "cell_type": "code",
      "metadata": {
        "colab": {
          "base_uri": "https://localhost:8080/"
        },
        "id": "WABMaV-Yk-5A",
        "outputId": "88c26f6b-a64c-4162-da80-6812bc213be1"
      },
      "source": [
        "model.summary()"
      ],
      "execution_count": null,
      "outputs": [
        {
          "output_type": "stream",
          "name": "stdout",
          "text": [
            "Model: \"sequential_1\"\n",
            "_________________________________________________________________\n",
            " Layer (type)                Output Shape              Param #   \n",
            "=================================================================\n",
            " conv1d_3 (Conv1D)           (None, 40, 64)            384       \n",
            "                                                                 \n",
            " activation_4 (Activation)   (None, 40, 64)            0         \n",
            "                                                                 \n",
            " dropout_3 (Dropout)         (None, 40, 64)            0         \n",
            "                                                                 \n",
            " average_pooling1d (AverageP  (None, 10, 64)           0         \n",
            " ooling1D)                                                       \n",
            "                                                                 \n",
            " conv1d_4 (Conv1D)           (None, 10, 128)           41088     \n",
            "                                                                 \n",
            " activation_5 (Activation)   (None, 10, 128)           0         \n",
            "                                                                 \n",
            " dropout_4 (Dropout)         (None, 10, 128)           0         \n",
            "                                                                 \n",
            " average_pooling1d_1 (Averag  (None, 2, 128)           0         \n",
            " ePooling1D)                                                     \n",
            "                                                                 \n",
            " conv1d_5 (Conv1D)           (None, 2, 256)            164096    \n",
            "                                                                 \n",
            " activation_6 (Activation)   (None, 2, 256)            0         \n",
            "                                                                 \n",
            " dropout_5 (Dropout)         (None, 2, 256)            0         \n",
            "                                                                 \n",
            " flatten_1 (Flatten)         (None, 512)               0         \n",
            "                                                                 \n",
            " dense_1 (Dense)             (None, 8)                 4104      \n",
            "                                                                 \n",
            " activation_7 (Activation)   (None, 8)                 0         \n",
            "                                                                 \n",
            "=================================================================\n",
            "Total params: 209,672\n",
            "Trainable params: 209,672\n",
            "Non-trainable params: 0\n",
            "_________________________________________________________________\n"
          ]
        }
      ]
    },
    {
      "cell_type": "code",
      "metadata": {
        "colab": {
          "base_uri": "https://localhost:8080/"
        },
        "id": "b2-H7YgdlAw5",
        "outputId": "50cbc5bb-7cd1-400a-8370-4212687fc337"
      },
      "source": [
        "model.compile(loss='sparse_categorical_crossentropy',\n",
        "              optimizer=opt,\n",
        "              metrics=['accuracy'])\n",
        "\n",
        "cnnhistory=model.fit(x_traincnn, y_train, batch_size=16, epochs=200, validation_data=(x_testcnn, y_test))"
      ],
      "execution_count": null,
      "outputs": [
        {
          "output_type": "stream",
          "name": "stdout",
          "text": [
            "Epoch 1/200\n",
            "212/212 [==============================] - 4s 17ms/step - loss: 1.9605 - accuracy: 0.2518 - val_loss: 1.7010 - val_accuracy: 0.5436\n",
            "Epoch 2/200\n",
            "212/212 [==============================] - 3s 16ms/step - loss: 1.6127 - accuracy: 0.4472 - val_loss: 1.4212 - val_accuracy: 0.5354\n",
            "Epoch 3/200\n",
            "212/212 [==============================] - 3s 16ms/step - loss: 1.3735 - accuracy: 0.5410 - val_loss: 1.2289 - val_accuracy: 0.5991\n",
            "Epoch 4/200\n",
            "212/212 [==============================] - 3s 16ms/step - loss: 1.2339 - accuracy: 0.5887 - val_loss: 1.1386 - val_accuracy: 0.5943\n",
            "Epoch 5/200\n",
            "212/212 [==============================] - 3s 16ms/step - loss: 1.1423 - accuracy: 0.6141 - val_loss: 1.0748 - val_accuracy: 0.6533\n",
            "Epoch 6/200\n",
            "212/212 [==============================] - 3s 16ms/step - loss: 1.0868 - accuracy: 0.6462 - val_loss: 1.0407 - val_accuracy: 0.6639\n",
            "Epoch 7/200\n",
            "212/212 [==============================] - 3s 16ms/step - loss: 1.0388 - accuracy: 0.6551 - val_loss: 1.0038 - val_accuracy: 0.6639\n",
            "Epoch 8/200\n",
            "212/212 [==============================] - 3s 16ms/step - loss: 1.0022 - accuracy: 0.6672 - val_loss: 0.9647 - val_accuracy: 0.6922\n",
            "Epoch 9/200\n",
            "212/212 [==============================] - 3s 16ms/step - loss: 0.9766 - accuracy: 0.6766 - val_loss: 0.9376 - val_accuracy: 0.6863\n",
            "Epoch 10/200\n",
            "212/212 [==============================] - 3s 16ms/step - loss: 0.9354 - accuracy: 0.6881 - val_loss: 0.9173 - val_accuracy: 0.6910\n",
            "Epoch 11/200\n",
            "212/212 [==============================] - 3s 16ms/step - loss: 0.9235 - accuracy: 0.6840 - val_loss: 0.8943 - val_accuracy: 0.6981\n",
            "Epoch 12/200\n",
            "212/212 [==============================] - 3s 16ms/step - loss: 0.8899 - accuracy: 0.6940 - val_loss: 0.8815 - val_accuracy: 0.6981\n",
            "Epoch 13/200\n",
            "212/212 [==============================] - 3s 16ms/step - loss: 0.8793 - accuracy: 0.6851 - val_loss: 0.8693 - val_accuracy: 0.6946\n",
            "Epoch 14/200\n",
            "212/212 [==============================] - 3s 16ms/step - loss: 0.8549 - accuracy: 0.7084 - val_loss: 0.8495 - val_accuracy: 0.7064\n",
            "Epoch 15/200\n",
            "212/212 [==============================] - 3s 16ms/step - loss: 0.8481 - accuracy: 0.6972 - val_loss: 0.8215 - val_accuracy: 0.7193\n",
            "Epoch 16/200\n",
            "212/212 [==============================] - 3s 16ms/step - loss: 0.8252 - accuracy: 0.7052 - val_loss: 0.8448 - val_accuracy: 0.6910\n",
            "Epoch 17/200\n",
            "212/212 [==============================] - 3s 16ms/step - loss: 0.8296 - accuracy: 0.7011 - val_loss: 0.7875 - val_accuracy: 0.7229\n",
            "Epoch 18/200\n",
            "212/212 [==============================] - 3s 16ms/step - loss: 0.8145 - accuracy: 0.7075 - val_loss: 0.7931 - val_accuracy: 0.7182\n",
            "Epoch 19/200\n",
            "212/212 [==============================] - 3s 16ms/step - loss: 0.8021 - accuracy: 0.7081 - val_loss: 0.7671 - val_accuracy: 0.7241\n",
            "Epoch 20/200\n",
            "212/212 [==============================] - 4s 17ms/step - loss: 0.7866 - accuracy: 0.7161 - val_loss: 0.7865 - val_accuracy: 0.7158\n",
            "Epoch 21/200\n",
            "212/212 [==============================] - 3s 16ms/step - loss: 0.7822 - accuracy: 0.7143 - val_loss: 0.7623 - val_accuracy: 0.7264\n",
            "Epoch 22/200\n",
            "212/212 [==============================] - 4s 17ms/step - loss: 0.7706 - accuracy: 0.7199 - val_loss: 0.7592 - val_accuracy: 0.7252\n",
            "Epoch 23/200\n",
            "212/212 [==============================] - 3s 16ms/step - loss: 0.7650 - accuracy: 0.7188 - val_loss: 0.7411 - val_accuracy: 0.7382\n",
            "Epoch 24/200\n",
            "212/212 [==============================] - 3s 16ms/step - loss: 0.7463 - accuracy: 0.7264 - val_loss: 0.7409 - val_accuracy: 0.7193\n",
            "Epoch 25/200\n",
            "212/212 [==============================] - 3s 16ms/step - loss: 0.7427 - accuracy: 0.7267 - val_loss: 0.7351 - val_accuracy: 0.7394\n",
            "Epoch 26/200\n",
            "212/212 [==============================] - 3s 16ms/step - loss: 0.7420 - accuracy: 0.7255 - val_loss: 0.7279 - val_accuracy: 0.7347\n",
            "Epoch 27/200\n",
            "212/212 [==============================] - 3s 16ms/step - loss: 0.7289 - accuracy: 0.7326 - val_loss: 0.7043 - val_accuracy: 0.7347\n",
            "Epoch 28/200\n",
            "212/212 [==============================] - 3s 16ms/step - loss: 0.7208 - accuracy: 0.7291 - val_loss: 0.7091 - val_accuracy: 0.7358\n",
            "Epoch 29/200\n",
            "212/212 [==============================] - 3s 16ms/step - loss: 0.7202 - accuracy: 0.7326 - val_loss: 0.7119 - val_accuracy: 0.7476\n",
            "Epoch 30/200\n",
            "212/212 [==============================] - 3s 16ms/step - loss: 0.7146 - accuracy: 0.7288 - val_loss: 0.7233 - val_accuracy: 0.7323\n",
            "Epoch 31/200\n",
            "212/212 [==============================] - 3s 16ms/step - loss: 0.7004 - accuracy: 0.7379 - val_loss: 0.6841 - val_accuracy: 0.7488\n",
            "Epoch 32/200\n",
            "212/212 [==============================] - 4s 17ms/step - loss: 0.7035 - accuracy: 0.7370 - val_loss: 0.7001 - val_accuracy: 0.7417\n",
            "Epoch 33/200\n",
            "212/212 [==============================] - 3s 16ms/step - loss: 0.6967 - accuracy: 0.7370 - val_loss: 0.6959 - val_accuracy: 0.7406\n",
            "Epoch 34/200\n",
            "212/212 [==============================] - 3s 16ms/step - loss: 0.6864 - accuracy: 0.7432 - val_loss: 0.6844 - val_accuracy: 0.7547\n",
            "Epoch 35/200\n",
            "212/212 [==============================] - 3s 16ms/step - loss: 0.6877 - accuracy: 0.7423 - val_loss: 0.6748 - val_accuracy: 0.7583\n",
            "Epoch 36/200\n",
            "212/212 [==============================] - 3s 16ms/step - loss: 0.6872 - accuracy: 0.7453 - val_loss: 0.6900 - val_accuracy: 0.7500\n",
            "Epoch 37/200\n",
            "212/212 [==============================] - 3s 16ms/step - loss: 0.6801 - accuracy: 0.7420 - val_loss: 0.6686 - val_accuracy: 0.7606\n",
            "Epoch 38/200\n",
            "212/212 [==============================] - 3s 16ms/step - loss: 0.6762 - accuracy: 0.7485 - val_loss: 0.6653 - val_accuracy: 0.7594\n",
            "Epoch 39/200\n",
            "212/212 [==============================] - 3s 16ms/step - loss: 0.6803 - accuracy: 0.7403 - val_loss: 0.6636 - val_accuracy: 0.7583\n",
            "Epoch 40/200\n",
            "212/212 [==============================] - 3s 16ms/step - loss: 0.6667 - accuracy: 0.7432 - val_loss: 0.6578 - val_accuracy: 0.7618\n",
            "Epoch 41/200\n",
            "212/212 [==============================] - 3s 16ms/step - loss: 0.6527 - accuracy: 0.7550 - val_loss: 0.6577 - val_accuracy: 0.7571\n",
            "Epoch 42/200\n",
            "212/212 [==============================] - 3s 16ms/step - loss: 0.6460 - accuracy: 0.7618 - val_loss: 0.6639 - val_accuracy: 0.7571\n",
            "Epoch 43/200\n",
            "212/212 [==============================] - 3s 16ms/step - loss: 0.6529 - accuracy: 0.7532 - val_loss: 0.6500 - val_accuracy: 0.7630\n",
            "Epoch 44/200\n",
            "212/212 [==============================] - 3s 16ms/step - loss: 0.6562 - accuracy: 0.7559 - val_loss: 0.6487 - val_accuracy: 0.7630\n",
            "Epoch 45/200\n",
            "212/212 [==============================] - 3s 16ms/step - loss: 0.6458 - accuracy: 0.7547 - val_loss: 0.6460 - val_accuracy: 0.7642\n",
            "Epoch 46/200\n",
            "212/212 [==============================] - 3s 16ms/step - loss: 0.6489 - accuracy: 0.7529 - val_loss: 0.6553 - val_accuracy: 0.7535\n",
            "Epoch 47/200\n",
            "212/212 [==============================] - 3s 16ms/step - loss: 0.6348 - accuracy: 0.7538 - val_loss: 0.6616 - val_accuracy: 0.7524\n",
            "Epoch 48/200\n",
            "212/212 [==============================] - 3s 16ms/step - loss: 0.6408 - accuracy: 0.7594 - val_loss: 0.6399 - val_accuracy: 0.7689\n",
            "Epoch 49/200\n",
            "212/212 [==============================] - 4s 17ms/step - loss: 0.6293 - accuracy: 0.7574 - val_loss: 0.6345 - val_accuracy: 0.7630\n",
            "Epoch 50/200\n",
            "212/212 [==============================] - 3s 16ms/step - loss: 0.6372 - accuracy: 0.7544 - val_loss: 0.6460 - val_accuracy: 0.7618\n",
            "Epoch 51/200\n",
            "212/212 [==============================] - 3s 16ms/step - loss: 0.6294 - accuracy: 0.7594 - val_loss: 0.6347 - val_accuracy: 0.7642\n",
            "Epoch 52/200\n",
            "212/212 [==============================] - 3s 16ms/step - loss: 0.6226 - accuracy: 0.7642 - val_loss: 0.6420 - val_accuracy: 0.7748\n",
            "Epoch 53/200\n",
            "212/212 [==============================] - 3s 16ms/step - loss: 0.6163 - accuracy: 0.7671 - val_loss: 0.6384 - val_accuracy: 0.7630\n",
            "Epoch 54/200\n",
            "212/212 [==============================] - 3s 16ms/step - loss: 0.6206 - accuracy: 0.7609 - val_loss: 0.6249 - val_accuracy: 0.7700\n",
            "Epoch 55/200\n",
            "212/212 [==============================] - 4s 17ms/step - loss: 0.6198 - accuracy: 0.7656 - val_loss: 0.6344 - val_accuracy: 0.7748\n",
            "Epoch 56/200\n",
            "212/212 [==============================] - 3s 16ms/step - loss: 0.6119 - accuracy: 0.7680 - val_loss: 0.6218 - val_accuracy: 0.7724\n",
            "Epoch 57/200\n",
            "212/212 [==============================] - 3s 16ms/step - loss: 0.6083 - accuracy: 0.7727 - val_loss: 0.6233 - val_accuracy: 0.7642\n",
            "Epoch 58/200\n",
            "212/212 [==============================] - 4s 17ms/step - loss: 0.6117 - accuracy: 0.7703 - val_loss: 0.6201 - val_accuracy: 0.7700\n",
            "Epoch 59/200\n",
            "212/212 [==============================] - 3s 16ms/step - loss: 0.6052 - accuracy: 0.7703 - val_loss: 0.6191 - val_accuracy: 0.7748\n",
            "Epoch 60/200\n",
            "212/212 [==============================] - 3s 16ms/step - loss: 0.6006 - accuracy: 0.7715 - val_loss: 0.6113 - val_accuracy: 0.7748\n",
            "Epoch 61/200\n",
            "212/212 [==============================] - 3s 16ms/step - loss: 0.6082 - accuracy: 0.7674 - val_loss: 0.6298 - val_accuracy: 0.7736\n",
            "Epoch 62/200\n",
            "212/212 [==============================] - 3s 16ms/step - loss: 0.6063 - accuracy: 0.7698 - val_loss: 0.6100 - val_accuracy: 0.7783\n",
            "Epoch 63/200\n",
            "212/212 [==============================] - 3s 16ms/step - loss: 0.6009 - accuracy: 0.7736 - val_loss: 0.6150 - val_accuracy: 0.7783\n",
            "Epoch 64/200\n",
            "212/212 [==============================] - 3s 16ms/step - loss: 0.5984 - accuracy: 0.7727 - val_loss: 0.6190 - val_accuracy: 0.7736\n",
            "Epoch 65/200\n",
            "212/212 [==============================] - 3s 16ms/step - loss: 0.6007 - accuracy: 0.7742 - val_loss: 0.5994 - val_accuracy: 0.7795\n",
            "Epoch 66/200\n",
            "212/212 [==============================] - 3s 16ms/step - loss: 0.5904 - accuracy: 0.7751 - val_loss: 0.6127 - val_accuracy: 0.7712\n",
            "Epoch 67/200\n",
            "212/212 [==============================] - 3s 16ms/step - loss: 0.5883 - accuracy: 0.7712 - val_loss: 0.6069 - val_accuracy: 0.7724\n",
            "Epoch 68/200\n",
            "212/212 [==============================] - 3s 16ms/step - loss: 0.5799 - accuracy: 0.7815 - val_loss: 0.5996 - val_accuracy: 0.7830\n",
            "Epoch 69/200\n",
            "212/212 [==============================] - 3s 16ms/step - loss: 0.5826 - accuracy: 0.7795 - val_loss: 0.6175 - val_accuracy: 0.7748\n",
            "Epoch 70/200\n",
            "212/212 [==============================] - 4s 17ms/step - loss: 0.5889 - accuracy: 0.7795 - val_loss: 0.5962 - val_accuracy: 0.7830\n",
            "Epoch 71/200\n",
            "212/212 [==============================] - 3s 16ms/step - loss: 0.5820 - accuracy: 0.7727 - val_loss: 0.5964 - val_accuracy: 0.7795\n",
            "Epoch 72/200\n",
            "212/212 [==============================] - 4s 17ms/step - loss: 0.5825 - accuracy: 0.7821 - val_loss: 0.6051 - val_accuracy: 0.7807\n",
            "Epoch 73/200\n",
            "212/212 [==============================] - 4s 17ms/step - loss: 0.5717 - accuracy: 0.7798 - val_loss: 0.5981 - val_accuracy: 0.7771\n",
            "Epoch 74/200\n",
            "212/212 [==============================] - 3s 16ms/step - loss: 0.5762 - accuracy: 0.7739 - val_loss: 0.5869 - val_accuracy: 0.7960\n",
            "Epoch 75/200\n",
            "212/212 [==============================] - 3s 16ms/step - loss: 0.5734 - accuracy: 0.7851 - val_loss: 0.5936 - val_accuracy: 0.7877\n",
            "Epoch 76/200\n",
            "212/212 [==============================] - 4s 17ms/step - loss: 0.5712 - accuracy: 0.7824 - val_loss: 0.5918 - val_accuracy: 0.7830\n",
            "Epoch 77/200\n",
            "212/212 [==============================] - 4s 17ms/step - loss: 0.5715 - accuracy: 0.7851 - val_loss: 0.5920 - val_accuracy: 0.7854\n",
            "Epoch 78/200\n",
            "212/212 [==============================] - 3s 16ms/step - loss: 0.5628 - accuracy: 0.7842 - val_loss: 0.5795 - val_accuracy: 0.7936\n",
            "Epoch 79/200\n",
            "212/212 [==============================] - 4s 17ms/step - loss: 0.5677 - accuracy: 0.7901 - val_loss: 0.5807 - val_accuracy: 0.7960\n",
            "Epoch 80/200\n",
            "212/212 [==============================] - 4s 17ms/step - loss: 0.5587 - accuracy: 0.7857 - val_loss: 0.5874 - val_accuracy: 0.7877\n",
            "Epoch 81/200\n",
            "212/212 [==============================] - 3s 16ms/step - loss: 0.5641 - accuracy: 0.7877 - val_loss: 0.5797 - val_accuracy: 0.7901\n",
            "Epoch 82/200\n",
            "212/212 [==============================] - 4s 17ms/step - loss: 0.5604 - accuracy: 0.7848 - val_loss: 0.5926 - val_accuracy: 0.7830\n",
            "Epoch 83/200\n",
            "212/212 [==============================] - 3s 16ms/step - loss: 0.5585 - accuracy: 0.7860 - val_loss: 0.5767 - val_accuracy: 0.7854\n",
            "Epoch 84/200\n",
            "212/212 [==============================] - 4s 17ms/step - loss: 0.5513 - accuracy: 0.7913 - val_loss: 0.5714 - val_accuracy: 0.7877\n",
            "Epoch 85/200\n",
            "212/212 [==============================] - 3s 16ms/step - loss: 0.5568 - accuracy: 0.7933 - val_loss: 0.5736 - val_accuracy: 0.7913\n",
            "Epoch 86/200\n",
            "212/212 [==============================] - 3s 16ms/step - loss: 0.5502 - accuracy: 0.7927 - val_loss: 0.6060 - val_accuracy: 0.7889\n",
            "Epoch 87/200\n",
            "212/212 [==============================] - 3s 17ms/step - loss: 0.5520 - accuracy: 0.7919 - val_loss: 0.5735 - val_accuracy: 0.7889\n",
            "Epoch 88/200\n",
            "212/212 [==============================] - 3s 16ms/step - loss: 0.5526 - accuracy: 0.7889 - val_loss: 0.5685 - val_accuracy: 0.7901\n",
            "Epoch 89/200\n",
            "212/212 [==============================] - 4s 17ms/step - loss: 0.5435 - accuracy: 0.7925 - val_loss: 0.5795 - val_accuracy: 0.7866\n",
            "Epoch 90/200\n",
            "212/212 [==============================] - 4s 17ms/step - loss: 0.5485 - accuracy: 0.7922 - val_loss: 0.5907 - val_accuracy: 0.7948\n",
            "Epoch 91/200\n",
            "212/212 [==============================] - 3s 16ms/step - loss: 0.5432 - accuracy: 0.7936 - val_loss: 0.5652 - val_accuracy: 0.7983\n",
            "Epoch 92/200\n",
            "212/212 [==============================] - 4s 17ms/step - loss: 0.5482 - accuracy: 0.7933 - val_loss: 0.5685 - val_accuracy: 0.7960\n",
            "Epoch 93/200\n",
            "212/212 [==============================] - 4s 17ms/step - loss: 0.5430 - accuracy: 0.7936 - val_loss: 0.5704 - val_accuracy: 0.8007\n",
            "Epoch 94/200\n",
            "212/212 [==============================] - 3s 16ms/step - loss: 0.5382 - accuracy: 0.7966 - val_loss: 0.5703 - val_accuracy: 0.7901\n",
            "Epoch 95/200\n",
            "212/212 [==============================] - 4s 17ms/step - loss: 0.5344 - accuracy: 0.8007 - val_loss: 0.5654 - val_accuracy: 0.8007\n",
            "Epoch 96/200\n",
            "212/212 [==============================] - 4s 17ms/step - loss: 0.5341 - accuracy: 0.8001 - val_loss: 0.5626 - val_accuracy: 0.8054\n",
            "Epoch 97/200\n",
            "212/212 [==============================] - 4s 17ms/step - loss: 0.5320 - accuracy: 0.7933 - val_loss: 0.5575 - val_accuracy: 0.8007\n",
            "Epoch 98/200\n",
            "212/212 [==============================] - 4s 17ms/step - loss: 0.5354 - accuracy: 0.7998 - val_loss: 0.5694 - val_accuracy: 0.8007\n",
            "Epoch 99/200\n",
            "212/212 [==============================] - 4s 17ms/step - loss: 0.5300 - accuracy: 0.7972 - val_loss: 0.5678 - val_accuracy: 0.8031\n",
            "Epoch 100/200\n",
            "212/212 [==============================] - 3s 16ms/step - loss: 0.5227 - accuracy: 0.8016 - val_loss: 0.5605 - val_accuracy: 0.7983\n",
            "Epoch 101/200\n",
            "212/212 [==============================] - 4s 17ms/step - loss: 0.5279 - accuracy: 0.8022 - val_loss: 0.5638 - val_accuracy: 0.8101\n",
            "Epoch 102/200\n",
            "212/212 [==============================] - 4s 17ms/step - loss: 0.5256 - accuracy: 0.8013 - val_loss: 0.5484 - val_accuracy: 0.8054\n",
            "Epoch 103/200\n",
            "212/212 [==============================] - 4s 17ms/step - loss: 0.5260 - accuracy: 0.8004 - val_loss: 0.5595 - val_accuracy: 0.8066\n",
            "Epoch 104/200\n",
            "212/212 [==============================] - 4s 17ms/step - loss: 0.5233 - accuracy: 0.8004 - val_loss: 0.5555 - val_accuracy: 0.8101\n",
            "Epoch 105/200\n",
            "212/212 [==============================] - 4s 17ms/step - loss: 0.5220 - accuracy: 0.8028 - val_loss: 0.5513 - val_accuracy: 0.8031\n",
            "Epoch 106/200\n",
            "212/212 [==============================] - 4s 17ms/step - loss: 0.5239 - accuracy: 0.7972 - val_loss: 0.5494 - val_accuracy: 0.8007\n",
            "Epoch 107/200\n",
            "212/212 [==============================] - 4s 17ms/step - loss: 0.5191 - accuracy: 0.8069 - val_loss: 0.5461 - val_accuracy: 0.8066\n",
            "Epoch 108/200\n",
            "212/212 [==============================] - 3s 16ms/step - loss: 0.5180 - accuracy: 0.8010 - val_loss: 0.5394 - val_accuracy: 0.8101\n",
            "Epoch 109/200\n",
            "212/212 [==============================] - 4s 17ms/step - loss: 0.5158 - accuracy: 0.8019 - val_loss: 0.5512 - val_accuracy: 0.8066\n",
            "Epoch 110/200\n",
            "212/212 [==============================] - 4s 17ms/step - loss: 0.5140 - accuracy: 0.8072 - val_loss: 0.5396 - val_accuracy: 0.8113\n",
            "Epoch 111/200\n",
            "212/212 [==============================] - 3s 16ms/step - loss: 0.5159 - accuracy: 0.8069 - val_loss: 0.5508 - val_accuracy: 0.8054\n",
            "Epoch 112/200\n",
            "212/212 [==============================] - 3s 16ms/step - loss: 0.5223 - accuracy: 0.8069 - val_loss: 0.5486 - val_accuracy: 0.8125\n",
            "Epoch 113/200\n",
            "212/212 [==============================] - 4s 16ms/step - loss: 0.5135 - accuracy: 0.8066 - val_loss: 0.5404 - val_accuracy: 0.8066\n",
            "Epoch 114/200\n",
            "212/212 [==============================] - 4s 17ms/step - loss: 0.5142 - accuracy: 0.8113 - val_loss: 0.5516 - val_accuracy: 0.8078\n",
            "Epoch 115/200\n",
            "212/212 [==============================] - 4s 17ms/step - loss: 0.5080 - accuracy: 0.8057 - val_loss: 0.5521 - val_accuracy: 0.8019\n",
            "Epoch 116/200\n",
            "212/212 [==============================] - 4s 17ms/step - loss: 0.5090 - accuracy: 0.8078 - val_loss: 0.5372 - val_accuracy: 0.8113\n",
            "Epoch 117/200\n",
            "212/212 [==============================] - 3s 16ms/step - loss: 0.5109 - accuracy: 0.8010 - val_loss: 0.5357 - val_accuracy: 0.8125\n",
            "Epoch 118/200\n",
            "212/212 [==============================] - 4s 17ms/step - loss: 0.5012 - accuracy: 0.8140 - val_loss: 0.5455 - val_accuracy: 0.7983\n",
            "Epoch 119/200\n",
            "212/212 [==============================] - 4s 17ms/step - loss: 0.5066 - accuracy: 0.8051 - val_loss: 0.5449 - val_accuracy: 0.8172\n",
            "Epoch 120/200\n",
            "212/212 [==============================] - 4s 17ms/step - loss: 0.5076 - accuracy: 0.8054 - val_loss: 0.5367 - val_accuracy: 0.8149\n",
            "Epoch 121/200\n",
            "212/212 [==============================] - 4s 17ms/step - loss: 0.5035 - accuracy: 0.8128 - val_loss: 0.5358 - val_accuracy: 0.8160\n",
            "Epoch 122/200\n",
            "212/212 [==============================] - 4s 17ms/step - loss: 0.5018 - accuracy: 0.8146 - val_loss: 0.5366 - val_accuracy: 0.8160\n",
            "Epoch 123/200\n",
            "212/212 [==============================] - 4s 17ms/step - loss: 0.4939 - accuracy: 0.8199 - val_loss: 0.5401 - val_accuracy: 0.8184\n",
            "Epoch 124/200\n",
            "212/212 [==============================] - 4s 17ms/step - loss: 0.4969 - accuracy: 0.8146 - val_loss: 0.5310 - val_accuracy: 0.8160\n",
            "Epoch 125/200\n",
            "212/212 [==============================] - 4s 17ms/step - loss: 0.4898 - accuracy: 0.8237 - val_loss: 0.5356 - val_accuracy: 0.8184\n",
            "Epoch 126/200\n",
            "212/212 [==============================] - 4s 17ms/step - loss: 0.4854 - accuracy: 0.8154 - val_loss: 0.5334 - val_accuracy: 0.8184\n",
            "Epoch 127/200\n",
            "212/212 [==============================] - 4s 17ms/step - loss: 0.4956 - accuracy: 0.8110 - val_loss: 0.5258 - val_accuracy: 0.8208\n",
            "Epoch 128/200\n",
            "212/212 [==============================] - 4s 17ms/step - loss: 0.4931 - accuracy: 0.8134 - val_loss: 0.5325 - val_accuracy: 0.8208\n",
            "Epoch 129/200\n",
            "212/212 [==============================] - 4s 17ms/step - loss: 0.4902 - accuracy: 0.8175 - val_loss: 0.5336 - val_accuracy: 0.8113\n",
            "Epoch 130/200\n",
            "212/212 [==============================] - 4s 17ms/step - loss: 0.4951 - accuracy: 0.8119 - val_loss: 0.5232 - val_accuracy: 0.8267\n",
            "Epoch 131/200\n",
            "212/212 [==============================] - 4s 17ms/step - loss: 0.4941 - accuracy: 0.8098 - val_loss: 0.5255 - val_accuracy: 0.8243\n",
            "Epoch 132/200\n",
            "212/212 [==============================] - 4s 17ms/step - loss: 0.4896 - accuracy: 0.8208 - val_loss: 0.5325 - val_accuracy: 0.8149\n",
            "Epoch 133/200\n",
            "212/212 [==============================] - 4s 17ms/step - loss: 0.4931 - accuracy: 0.8169 - val_loss: 0.5249 - val_accuracy: 0.8113\n",
            "Epoch 134/200\n",
            "212/212 [==============================] - 4s 17ms/step - loss: 0.4869 - accuracy: 0.8181 - val_loss: 0.5240 - val_accuracy: 0.8219\n",
            "Epoch 135/200\n",
            "212/212 [==============================] - 3s 16ms/step - loss: 0.4900 - accuracy: 0.8137 - val_loss: 0.5251 - val_accuracy: 0.8160\n",
            "Epoch 136/200\n",
            "212/212 [==============================] - 4s 17ms/step - loss: 0.4911 - accuracy: 0.8184 - val_loss: 0.5231 - val_accuracy: 0.8090\n",
            "Epoch 137/200\n",
            "212/212 [==============================] - 4s 17ms/step - loss: 0.4890 - accuracy: 0.8178 - val_loss: 0.5243 - val_accuracy: 0.8219\n",
            "Epoch 138/200\n",
            "212/212 [==============================] - 3s 16ms/step - loss: 0.4742 - accuracy: 0.8231 - val_loss: 0.5119 - val_accuracy: 0.8255\n",
            "Epoch 139/200\n",
            "212/212 [==============================] - 4s 17ms/step - loss: 0.4820 - accuracy: 0.8196 - val_loss: 0.5153 - val_accuracy: 0.8208\n",
            "Epoch 140/200\n",
            "212/212 [==============================] - 4s 17ms/step - loss: 0.4856 - accuracy: 0.8163 - val_loss: 0.5216 - val_accuracy: 0.8066\n",
            "Epoch 141/200\n",
            "212/212 [==============================] - 4s 17ms/step - loss: 0.4756 - accuracy: 0.8234 - val_loss: 0.5201 - val_accuracy: 0.8267\n",
            "Epoch 142/200\n",
            "212/212 [==============================] - 4s 17ms/step - loss: 0.4739 - accuracy: 0.8258 - val_loss: 0.5181 - val_accuracy: 0.8196\n",
            "Epoch 143/200\n",
            "212/212 [==============================] - 4s 17ms/step - loss: 0.4851 - accuracy: 0.8193 - val_loss: 0.5257 - val_accuracy: 0.8090\n",
            "Epoch 144/200\n",
            "212/212 [==============================] - 4s 17ms/step - loss: 0.4719 - accuracy: 0.8187 - val_loss: 0.5244 - val_accuracy: 0.8101\n",
            "Epoch 145/200\n",
            "212/212 [==============================] - 4s 17ms/step - loss: 0.4758 - accuracy: 0.8202 - val_loss: 0.5169 - val_accuracy: 0.8172\n",
            "Epoch 146/200\n",
            "212/212 [==============================] - 4s 17ms/step - loss: 0.4796 - accuracy: 0.8216 - val_loss: 0.5272 - val_accuracy: 0.8090\n",
            "Epoch 147/200\n",
            "212/212 [==============================] - 4s 17ms/step - loss: 0.4778 - accuracy: 0.8272 - val_loss: 0.5170 - val_accuracy: 0.8172\n",
            "Epoch 148/200\n",
            "212/212 [==============================] - 4s 18ms/step - loss: 0.4767 - accuracy: 0.8252 - val_loss: 0.5130 - val_accuracy: 0.8149\n",
            "Epoch 149/200\n",
            "212/212 [==============================] - 4s 17ms/step - loss: 0.4754 - accuracy: 0.8216 - val_loss: 0.5240 - val_accuracy: 0.8066\n",
            "Epoch 150/200\n",
            "212/212 [==============================] - 4s 17ms/step - loss: 0.4683 - accuracy: 0.8252 - val_loss: 0.5171 - val_accuracy: 0.8172\n",
            "Epoch 151/200\n",
            "212/212 [==============================] - 4s 17ms/step - loss: 0.4692 - accuracy: 0.8222 - val_loss: 0.5147 - val_accuracy: 0.8219\n",
            "Epoch 152/200\n",
            "212/212 [==============================] - 4s 17ms/step - loss: 0.4629 - accuracy: 0.8267 - val_loss: 0.5187 - val_accuracy: 0.8125\n",
            "Epoch 153/200\n",
            "212/212 [==============================] - 4s 17ms/step - loss: 0.4679 - accuracy: 0.8258 - val_loss: 0.5250 - val_accuracy: 0.8125\n",
            "Epoch 154/200\n",
            "212/212 [==============================] - 4s 17ms/step - loss: 0.4539 - accuracy: 0.8349 - val_loss: 0.5083 - val_accuracy: 0.8219\n",
            "Epoch 155/200\n",
            "212/212 [==============================] - 4s 17ms/step - loss: 0.4702 - accuracy: 0.8255 - val_loss: 0.5243 - val_accuracy: 0.8101\n",
            "Epoch 156/200\n",
            "212/212 [==============================] - 4s 17ms/step - loss: 0.4639 - accuracy: 0.8284 - val_loss: 0.5056 - val_accuracy: 0.8101\n",
            "Epoch 157/200\n",
            "212/212 [==============================] - 4s 17ms/step - loss: 0.4601 - accuracy: 0.8293 - val_loss: 0.5057 - val_accuracy: 0.8255\n",
            "Epoch 158/200\n",
            "212/212 [==============================] - 4s 17ms/step - loss: 0.4660 - accuracy: 0.8249 - val_loss: 0.5043 - val_accuracy: 0.8278\n",
            "Epoch 159/200\n",
            "212/212 [==============================] - 4s 17ms/step - loss: 0.4633 - accuracy: 0.8290 - val_loss: 0.4991 - val_accuracy: 0.8302\n",
            "Epoch 160/200\n",
            "212/212 [==============================] - 4s 17ms/step - loss: 0.4640 - accuracy: 0.8293 - val_loss: 0.5089 - val_accuracy: 0.8231\n",
            "Epoch 161/200\n",
            "212/212 [==============================] - 4s 17ms/step - loss: 0.4530 - accuracy: 0.8299 - val_loss: 0.5082 - val_accuracy: 0.8243\n",
            "Epoch 162/200\n",
            "212/212 [==============================] - 4s 17ms/step - loss: 0.4532 - accuracy: 0.8311 - val_loss: 0.5197 - val_accuracy: 0.8149\n",
            "Epoch 163/200\n",
            "212/212 [==============================] - 4s 17ms/step - loss: 0.4597 - accuracy: 0.8287 - val_loss: 0.5046 - val_accuracy: 0.8208\n",
            "Epoch 164/200\n",
            "212/212 [==============================] - 4s 17ms/step - loss: 0.4472 - accuracy: 0.8323 - val_loss: 0.5073 - val_accuracy: 0.8231\n",
            "Epoch 165/200\n",
            "212/212 [==============================] - 4s 17ms/step - loss: 0.4542 - accuracy: 0.8323 - val_loss: 0.4904 - val_accuracy: 0.8302\n",
            "Epoch 166/200\n",
            "212/212 [==============================] - 4s 17ms/step - loss: 0.4449 - accuracy: 0.8367 - val_loss: 0.4967 - val_accuracy: 0.8243\n",
            "Epoch 167/200\n",
            "212/212 [==============================] - 4s 17ms/step - loss: 0.4418 - accuracy: 0.8352 - val_loss: 0.4952 - val_accuracy: 0.8337\n",
            "Epoch 168/200\n",
            "212/212 [==============================] - 4s 17ms/step - loss: 0.4563 - accuracy: 0.8299 - val_loss: 0.5098 - val_accuracy: 0.8101\n",
            "Epoch 169/200\n",
            "212/212 [==============================] - 4s 17ms/step - loss: 0.4539 - accuracy: 0.8278 - val_loss: 0.4925 - val_accuracy: 0.8290\n",
            "Epoch 170/200\n",
            "212/212 [==============================] - 4s 17ms/step - loss: 0.4531 - accuracy: 0.8328 - val_loss: 0.5081 - val_accuracy: 0.8172\n",
            "Epoch 171/200\n",
            "212/212 [==============================] - 4s 17ms/step - loss: 0.4488 - accuracy: 0.8308 - val_loss: 0.4932 - val_accuracy: 0.8267\n",
            "Epoch 172/200\n",
            "212/212 [==============================] - 4s 17ms/step - loss: 0.4532 - accuracy: 0.8299 - val_loss: 0.4966 - val_accuracy: 0.8349\n",
            "Epoch 173/200\n",
            "212/212 [==============================] - 4s 18ms/step - loss: 0.4361 - accuracy: 0.8414 - val_loss: 0.4906 - val_accuracy: 0.8243\n",
            "Epoch 174/200\n",
            "212/212 [==============================] - 4s 17ms/step - loss: 0.4418 - accuracy: 0.8396 - val_loss: 0.4970 - val_accuracy: 0.8231\n",
            "Epoch 175/200\n",
            "212/212 [==============================] - 4s 17ms/step - loss: 0.4434 - accuracy: 0.8352 - val_loss: 0.4898 - val_accuracy: 0.8302\n",
            "Epoch 176/200\n",
            "212/212 [==============================] - 4s 17ms/step - loss: 0.4470 - accuracy: 0.8334 - val_loss: 0.4937 - val_accuracy: 0.8255\n",
            "Epoch 177/200\n",
            "212/212 [==============================] - 4s 17ms/step - loss: 0.4479 - accuracy: 0.8320 - val_loss: 0.4946 - val_accuracy: 0.8267\n",
            "Epoch 178/200\n",
            "212/212 [==============================] - 4s 17ms/step - loss: 0.4491 - accuracy: 0.8284 - val_loss: 0.4869 - val_accuracy: 0.8302\n",
            "Epoch 179/200\n",
            "212/212 [==============================] - 4s 17ms/step - loss: 0.4375 - accuracy: 0.8355 - val_loss: 0.4933 - val_accuracy: 0.8290\n",
            "Epoch 180/200\n",
            "212/212 [==============================] - 4s 17ms/step - loss: 0.4460 - accuracy: 0.8370 - val_loss: 0.4978 - val_accuracy: 0.8243\n",
            "Epoch 181/200\n",
            "212/212 [==============================] - 4s 17ms/step - loss: 0.4306 - accuracy: 0.8379 - val_loss: 0.4883 - val_accuracy: 0.8278\n",
            "Epoch 182/200\n",
            "212/212 [==============================] - 4s 17ms/step - loss: 0.4370 - accuracy: 0.8399 - val_loss: 0.4997 - val_accuracy: 0.8196\n",
            "Epoch 183/200\n",
            "212/212 [==============================] - 4s 17ms/step - loss: 0.4374 - accuracy: 0.8426 - val_loss: 0.4965 - val_accuracy: 0.8243\n",
            "Epoch 184/200\n",
            "212/212 [==============================] - 4s 17ms/step - loss: 0.4364 - accuracy: 0.8337 - val_loss: 0.4853 - val_accuracy: 0.8290\n",
            "Epoch 185/200\n",
            "212/212 [==============================] - 4s 18ms/step - loss: 0.4371 - accuracy: 0.8379 - val_loss: 0.4921 - val_accuracy: 0.8267\n",
            "Epoch 186/200\n",
            "212/212 [==============================] - 4s 17ms/step - loss: 0.4232 - accuracy: 0.8426 - val_loss: 0.4939 - val_accuracy: 0.8302\n",
            "Epoch 187/200\n",
            "212/212 [==============================] - 4s 17ms/step - loss: 0.4297 - accuracy: 0.8435 - val_loss: 0.4881 - val_accuracy: 0.8219\n",
            "Epoch 188/200\n",
            "212/212 [==============================] - 4s 17ms/step - loss: 0.4256 - accuracy: 0.8432 - val_loss: 0.4877 - val_accuracy: 0.8267\n",
            "Epoch 189/200\n",
            "212/212 [==============================] - 4s 17ms/step - loss: 0.4238 - accuracy: 0.8438 - val_loss: 0.4946 - val_accuracy: 0.8231\n",
            "Epoch 190/200\n",
            "212/212 [==============================] - 4s 17ms/step - loss: 0.4272 - accuracy: 0.8438 - val_loss: 0.4862 - val_accuracy: 0.8349\n",
            "Epoch 191/200\n",
            "212/212 [==============================] - 4s 17ms/step - loss: 0.4314 - accuracy: 0.8464 - val_loss: 0.4886 - val_accuracy: 0.8325\n",
            "Epoch 192/200\n",
            "212/212 [==============================] - 4s 17ms/step - loss: 0.4357 - accuracy: 0.8443 - val_loss: 0.4846 - val_accuracy: 0.8373\n",
            "Epoch 193/200\n",
            "212/212 [==============================] - 4s 17ms/step - loss: 0.4258 - accuracy: 0.8429 - val_loss: 0.4852 - val_accuracy: 0.8290\n",
            "Epoch 194/200\n",
            "212/212 [==============================] - 4s 17ms/step - loss: 0.4127 - accuracy: 0.8485 - val_loss: 0.4919 - val_accuracy: 0.8243\n",
            "Epoch 195/200\n",
            "212/212 [==============================] - 4s 17ms/step - loss: 0.4298 - accuracy: 0.8417 - val_loss: 0.4893 - val_accuracy: 0.8278\n",
            "Epoch 196/200\n",
            "212/212 [==============================] - 4s 17ms/step - loss: 0.4239 - accuracy: 0.8461 - val_loss: 0.5007 - val_accuracy: 0.8208\n",
            "Epoch 197/200\n",
            "212/212 [==============================] - 4s 17ms/step - loss: 0.4131 - accuracy: 0.8467 - val_loss: 0.4819 - val_accuracy: 0.8361\n",
            "Epoch 198/200\n",
            "212/212 [==============================] - 4s 18ms/step - loss: 0.4240 - accuracy: 0.8417 - val_loss: 0.4822 - val_accuracy: 0.8373\n",
            "Epoch 199/200\n",
            "212/212 [==============================] - 4s 17ms/step - loss: 0.4249 - accuracy: 0.8438 - val_loss: 0.4902 - val_accuracy: 0.8267\n",
            "Epoch 200/200\n",
            "212/212 [==============================] - 4s 17ms/step - loss: 0.4198 - accuracy: 0.8458 - val_loss: 0.4840 - val_accuracy: 0.8290\n"
          ]
        }
      ]
    },
    {
      "cell_type": "code",
      "metadata": {
        "colab": {
          "base_uri": "https://localhost:8080/",
          "height": 295
        },
        "id": "1PzTm2m3MlGE",
        "outputId": "4c361eeb-891c-493a-de52-cf9eab5302a3"
      },
      "source": [
        "plt.plot(cnnhistory.history['loss'])\n",
        "plt.plot(cnnhistory.history['val_loss'])\n",
        "plt.title('model loss')\n",
        "plt.ylabel('loss')\n",
        "plt.xlabel('epoch')\n",
        "plt.legend(['train', 'test'], loc='upper left')\n",
        "plt.show()"
      ],
      "execution_count": null,
      "outputs": [
        {
          "output_type": "display_data",
          "data": {
            "image/png": "[encoded data removed]",
            "text/plain": [
              "<Figure size 432x288 with 1 Axes>"
            ]
          },
          "metadata": {
            "needs_background": "light"
          }
        }
      ]
    },
    {
      "cell_type": "code",
      "metadata": {
        "id": "n2O8rspiMssa",
        "colab": {
          "base_uri": "https://localhost:8080/",
          "height": 295
        },
        "outputId": "edbf127c-bd95-4d74-b991-49d0cfb9f3f0"
      },
      "source": [
        "plt.plot(cnnhistory.history['accuracy'])\n",
        "plt.plot(cnnhistory.history['val_accuracy'])\n",
        "plt.title('model accuracy')\n",
        "plt.ylabel('accuracy')\n",
        "plt.xlabel('epoch')\n",
        "plt.legend(['train', 'test'], loc='upper left')\n",
        "plt.show()"
      ],
      "execution_count": null,
      "outputs": [
        {
          "output_type": "display_data",
          "data": {
            "image/png": "[encoded data removed]",
            "text/plain": [
              "<Figure size 432x288 with 1 Axes>"
            ]
          },
          "metadata": {
            "needs_background": "light"
          }
        }
      ]
    },
    {
      "cell_type": "code",
      "metadata": {
        "id": "aYb1vjSUnSaf"
      },
      "source": [
        "predict_x = model.predict(x_testcnn)\n",
        "predictions=np.argmax(predict_x,axis=1)"
      ],
      "execution_count": null,
      "outputs": []
    },
    {
      "cell_type": "code",
      "metadata": {
        "id": "q-k38z4pnYPm"
      },
      "source": [
        "new_Ytest = y_test.astype(int)"
      ],
      "execution_count": null,
      "outputs": []
    },
    {
      "cell_type": "code",
      "metadata": {
        "colab": {
          "base_uri": "https://localhost:8080/"
        },
        "id": "qfwXaAz7nblt",
        "outputId": "50c694c3-a390-4eb5-e6bb-6a2120d63fcb"
      },
      "source": [
        "from sklearn.metrics import classification_report\n",
        "report = classification_report(new_Ytest, predictions)\n",
        "print(report)"
      ],
      "execution_count": null,
      "outputs": [
        {
          "output_type": "stream",
          "name": "stdout",
          "text": [
            "              precision    recall  f1-score   support\n",
            "\n",
            "           0       0.94      0.87      0.90        90\n",
            "           1       0.59      0.58      0.58        45\n",
            "           2       0.80      0.79      0.79       109\n",
            "           3       0.83      0.84      0.83       123\n",
            "           4       0.86      0.87      0.87       109\n",
            "           5       0.78      0.89      0.83       120\n",
            "           6       0.88      0.82      0.84       146\n",
            "           7       0.84      0.84      0.84       106\n",
            "\n",
            "    accuracy                           0.83       848\n",
            "   macro avg       0.81      0.81      0.81       848\n",
            "weighted avg       0.83      0.83      0.83       848\n",
            "\n"
          ]
        }
      ]
    },
    {
      "cell_type": "code",
      "metadata": {
        "colab": {
          "base_uri": "https://localhost:8080/",
          "height": 295
        },
        "id": "AbImi1ydntaY",
        "outputId": "8869fd46-2830-437d-d39e-29bac97b2b9d"
      },
      "source": [
        "from sklearn.metrics import confusion_matrix\n",
        "import seaborn as sb\n",
        "confusionMatrix = confusion_matrix(new_Ytest, predictions)\n",
        "sb.heatmap( confusionMatrix , annot = True )\n",
        "plt.ylabel('Predicated Label ')\n",
        "plt.xlabel('Actual Label ')\n",
        "plt.title('Confusion Matrix ')\n",
        "plt.show()\n"
      ],
      "execution_count": null,
      "outputs": [
        {
          "output_type": "display_data",
          "data": {
            "image/png": "[encoded data removed]",
            "text/plain": [
              "<Figure size 432x288 with 2 Axes>"
            ]
          },
          "metadata": {
            "needs_background": "light"
          }
        }
      ]
    }
  ]
}