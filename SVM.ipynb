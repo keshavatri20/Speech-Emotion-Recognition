{
  "nbformat": 4,
  "nbformat_minor": 0,
  "metadata": {
    "colab": {
      "name": "Group_20_Project_SVM.ipynb",
      "provenance": [],
      "collapsed_sections": [
        "gmyFS7Ajj4PZ"
      ]
    },
    "kernelspec": {
      "display_name": "Python 3",
      "name": "python3"
    }
  },
  "cells": [
    {
      "cell_type": "markdown",
      "metadata": {
        "id": "SHELNie2q4Sn"
      },
      "source": [
        "<h2><center>Group 20</center></h2>\n",
        "<h3><center>Jainit Patel - 201801172</center></h3>\n",
        "<h3><center>Raj Desai - 201801183</center></h3>\n",
        "<h3><center>Chirag Gupta - 201801188</center></h3>\n",
        "<h3><center>Meet Parmar - 201801195</center></h3>\n",
        "<h3><center>Raj Bhavsar - 201801437</center></h3>"
      ]
    },
    {
      "cell_type": "markdown",
      "metadata": {
        "id": "_rSPPI1yUu6X"
      },
      "source": [
        "## Mounting drive"
      ]
    },
    {
      "cell_type": "code",
      "metadata": {
        "colab": {
          "base_uri": "https://localhost:8080/"
        },
        "id": "1LWT3AufOyCv",
        "outputId": "32624c7a-cd86-4b54-90b1-11690a316097"
      },
      "source": [
        "from google.colab import drive\n",
        "drive.mount('/content/drive', force_remount=True)"
      ],
      "execution_count": null,
      "outputs": [
        {
          "output_type": "stream",
          "name": "stdout",
          "text": [
            "Mounted at /content/drive\n"
          ]
        }
      ]
    },
    {
      "cell_type": "code",
      "metadata": {
        "colab": {
          "base_uri": "https://localhost:8080/"
        },
        "id": "DKsVdMyMkotJ",
        "outputId": "57a6197d-17ad-4ede-cbcc-23d8ea5abe52"
      },
      "source": [
        "from google.colab import drive\n",
        "drive.mount('/content/drive')"
      ],
      "execution_count": null,
      "outputs": [
        {
          "output_type": "stream",
          "name": "stdout",
          "text": [
            "Drive already mounted at /content/drive; to attempt to forcibly remount, call drive.mount(\"/content/drive\", force_remount=True).\n"
          ]
        }
      ]
    },
    {
      "cell_type": "code",
      "metadata": {
        "id": "VZWf5RDrO8Ta"
      },
      "source": [
        "import pandas as pd\n",
        "import numpy as np"
      ],
      "execution_count": null,
      "outputs": []
    },
    {
      "cell_type": "code",
      "metadata": {
        "id": "6pIjkHJJwXSy"
      },
      "source": [
        "# There are total 8 types of classes or emotions\n",
        "emotions={\n",
        "  '01':'neutral',\n",
        "  '02':'calm',\n",
        "  '03':'happy',\n",
        "  '04':'sad',\n",
        "  '05':'angry',\n",
        "  '06':'fear',\n",
        "  '07':'disgust',\n",
        "  '08':'surprised'\n",
        "}"
      ],
      "execution_count": null,
      "outputs": []
    },
    {
      "cell_type": "markdown",
      "metadata": {
        "id": "wluhtqM2VNdY"
      },
      "source": [
        "## Loading features(MFCCs) and emotions of all audio files "
      ]
    },
    {
      "cell_type": "code",
      "metadata": {
        "colab": {
          "base_uri": "https://localhost:8080/"
        },
        "id": "5JBkWhfnQQDt",
        "outputId": "cc7a732a-6eb1-438b-dd6e-f54ac61cbe9a"
      },
      "source": [
        "import time\n",
        "\n",
        "starting_time = time.time()\n",
        "data = pd.read_csv('/content/drive/MyDrive/ML/RAVTESS_MFCC_Observed.csv')\n",
        "print(\"data loaded in \" + str(time.time()-starting_time) + \"ms\")\n",
        "\n",
        "print(data.head())"
      ],
      "execution_count": null,
      "outputs": [
        {
          "output_type": "stream",
          "name": "stdout",
          "text": [
            "data loaded in 0.5838227272033691ms\n",
            "   Unnamed: 0           0          1  ...         38         39    emotion\n",
            "0        2842 -520.823303  75.906799  ...  19.813313  10.987593    neutral\n",
            "1        3247 -423.271484  77.593124  ...   2.209725   2.348104    disgust\n",
            "2         610 -715.503662  69.203728  ...  -2.218677  -2.971524       calm\n",
            "3         634 -537.216003  46.795460  ...   4.379309   3.290406        sad\n",
            "4         535 -589.433960  52.526531  ...  -0.472045   0.445019  surprised\n",
            "\n",
            "[5 rows x 42 columns]\n"
          ]
        }
      ]
    },
    {
      "cell_type": "code",
      "metadata": {
        "colab": {
          "base_uri": "https://localhost:8080/"
        },
        "id": "6UlGjAhtlhl2",
        "outputId": "1cff822d-531f-4378-dd46-34d72a7660e0"
      },
      "source": [
        "#printing all columns\n",
        "data.columns"
      ],
      "execution_count": null,
      "outputs": [
        {
          "output_type": "execute_result",
          "data": {
            "text/plain": [
              "Index(['Unnamed: 0', '0', '1', '2', '3', '4', '5', '6', '7', '8', '9', '10',\n",
              "       '11', '12', '13', '14', '15', '16', '17', '18', '19', '20', '21', '22',\n",
              "       '23', '24', '25', '26', '27', '28', '29', '30', '31', '32', '33', '34',\n",
              "       '35', '36', '37', '38', '39', 'emotion'],\n",
              "      dtype='object')"
            ]
          },
          "metadata": {},
          "execution_count": 6
        }
      ]
    },
    {
      "cell_type": "code",
      "metadata": {
        "id": "7T9PgDj1luY1"
      },
      "source": [
        "# dropping the column Unnamed: 0 to removed shuffled index\n",
        "data = data.drop('Unnamed: 0',axis=1)"
      ],
      "execution_count": null,
      "outputs": []
    },
    {
      "cell_type": "code",
      "metadata": {
        "colab": {
          "base_uri": "https://localhost:8080/"
        },
        "id": "9XYzHT00l1vu",
        "outputId": "a68591cb-f27d-4b1b-e28b-3296ee7a12fb"
      },
      "source": [
        "data.columns"
      ],
      "execution_count": null,
      "outputs": [
        {
          "output_type": "execute_result",
          "data": {
            "text/plain": [
              "Index(['0', '1', '2', '3', '4', '5', '6', '7', '8', '9', '10', '11', '12',\n",
              "       '13', '14', '15', '16', '17', '18', '19', '20', '21', '22', '23', '24',\n",
              "       '25', '26', '27', '28', '29', '30', '31', '32', '33', '34', '35', '36',\n",
              "       '37', '38', '39', 'emotion'],\n",
              "      dtype='object')"
            ]
          },
          "metadata": {},
          "execution_count": 8
        }
      ]
    },
    {
      "cell_type": "code",
      "metadata": {
        "id": "dFz_djRCj8-7"
      },
      "source": [
        "# separating features(mfccs) and target emotion\n",
        "X = data.drop('emotion', axis = 1).values\n",
        "y = data['emotion'].values"
      ],
      "execution_count": null,
      "outputs": []
    },
    {
      "cell_type": "markdown",
      "metadata": {
        "id": "gmyFS7Ajj4PZ"
      },
      "source": [
        "## SVM without Scalling\n",
        "\n",
        "Implementing SVM with Scikit-Learn"
      ]
    },
    {
      "cell_type": "code",
      "metadata": {
        "id": "pq5mN2XzkAj_"
      },
      "source": [
        "import pandas as pd\n",
        "import numpy as np\n",
        "import matplotlib.pyplot as plt\n",
        "%matplotlib inline"
      ],
      "execution_count": null,
      "outputs": []
    },
    {
      "cell_type": "code",
      "metadata": {
        "colab": {
          "base_uri": "https://localhost:8080/"
        },
        "id": "4j5u2-2YkEce",
        "outputId": "c219fb8c-a7f1-4101-fc2f-691cc244d8d3"
      },
      "source": [
        "# Total size of dataset\n",
        "X.shape, y.shape"
      ],
      "execution_count": null,
      "outputs": [
        {
          "output_type": "execute_result",
          "data": {
            "text/plain": [
              "((4240, 40), (4240,))"
            ]
          },
          "metadata": {},
          "execution_count": 11
        }
      ]
    },
    {
      "cell_type": "code",
      "metadata": {
        "colab": {
          "base_uri": "https://localhost:8080/"
        },
        "id": "rzaQWvXjkG6a",
        "outputId": "013849f3-816e-4a0b-e7e7-48e2c07ea19d"
      },
      "source": [
        "# Gives all unique values or emotions in dataset\n",
        "np.unique(y)"
      ],
      "execution_count": null,
      "outputs": [
        {
          "output_type": "execute_result",
          "data": {
            "text/plain": [
              "array(['angry', 'calm', 'disgust', 'fear', 'happy', 'neutral', 'sad',\n",
              "       'surprised'], dtype=object)"
            ]
          },
          "metadata": {},
          "execution_count": 12
        }
      ]
    },
    {
      "cell_type": "markdown",
      "metadata": {
        "id": "qFIOIBCmkOof"
      },
      "source": [
        "\n",
        "X variable contains attributes while y variable contains corresponding labels.\n",
        "\n",
        "Once the data is divided into attributes and labels, the final preprocessing step is to divide data into training and test sets. "
      ]
    },
    {
      "cell_type": "code",
      "metadata": {
        "colab": {
          "base_uri": "https://localhost:8080/"
        },
        "id": "y-rWEbnjkI3z",
        "outputId": "5eb0b5f0-1453-4e93-f83f-29ba0453385b"
      },
      "source": [
        "# Dividing dataset into two parts \n",
        "from sklearn.model_selection import train_test_split\n",
        "\n",
        "X_train, X_test, y_train, y_test = train_test_split(X, y, test_size = 0.20)\n",
        "\n",
        "print(\"Training set size: \", X_train.shape)\n",
        "print(\"Testing set size: \", X_test.shape)"
      ],
      "execution_count": null,
      "outputs": [
        {
          "output_type": "stream",
          "name": "stdout",
          "text": [
            "Training set size:  (3392, 40)\n",
            "Testing set size:  (848, 40)\n"
          ]
        }
      ]
    },
    {
      "cell_type": "markdown",
      "metadata": {
        "id": "2jBVxf-ZkTSd"
      },
      "source": [
        "Now to train the data, we will use inbuilt support vector classifier algorithm from Scikit-Learn library."
      ]
    },
    {
      "cell_type": "code",
      "metadata": {
        "id": "viKFlbezkSll"
      },
      "source": [
        "from sklearn.svm import SVC"
      ],
      "execution_count": null,
      "outputs": []
    },
    {
      "cell_type": "markdown",
      "metadata": {
        "id": "quixvmf5XBQr"
      },
      "source": [
        "Here, we are using linear and rbf(similar to gaussian) kernel"
      ]
    },
    {
      "cell_type": "code",
      "metadata": {
        "id": "XVvDBWFTUom7"
      },
      "source": [
        "svc_linear_kernel = SVC(kernel = 'linear')\n",
        "svc_rbf_kernel = SVC(kernel = 'rbf')\n"
      ],
      "execution_count": null,
      "outputs": []
    },
    {
      "cell_type": "markdown",
      "metadata": {
        "id": "obFMZPWqIs3C"
      },
      "source": [
        "The fit method of SVC class is called to train the algorithm on the training data, which is passed as a parameter to the fit method"
      ]
    },
    {
      "cell_type": "code",
      "metadata": {
        "colab": {
          "base_uri": "https://localhost:8080/"
        },
        "id": "LZnkHUkZkX1A",
        "outputId": "eb60502b-d66d-46be-fd4c-e48deee9fb91"
      },
      "source": [
        "import time\n",
        "\n",
        "starting_time = time.time()\n",
        "\n",
        "svc_linear_kernel.fit(X_train, y_train)\n",
        "svc_rbf_kernel.fit(X_train, y_train)\n",
        "\n",
        "print(\"Trained model in %s ms \" % str(time.time() - starting_time))\n",
        "\n",
        "\n",
        "print('Accuracy without Scaling with linear kernel: {}'.format(svc_linear_kernel.score(X_test, y_test)))\n",
        "print('Accuracy without Scaling with gaussian kernel: {}'.format(svc_rbf_kernel.score(X_test, y_test)))\n"
      ],
      "execution_count": null,
      "outputs": [
        {
          "output_type": "stream",
          "name": "stdout",
          "text": [
            "Trained model in 68.5583975315094 ms \n",
            "Accuracy without Scaling with linear kernel: 0.7323113207547169\n",
            "Accuracy without Scaling with gaussian kernel: 0.6061320754716981\n"
          ]
        }
      ]
    },
    {
      "cell_type": "markdown",
      "metadata": {
        "id": "KXvzYeXYkaMb"
      },
      "source": [
        "To make predictions, the predict method of the SVC class is used."
      ]
    },
    {
      "cell_type": "code",
      "metadata": {
        "id": "pUad4lXgkdZR"
      },
      "source": [
        "y_pred_linear = svc_linear_kernel.predict(X_test)\n",
        "y_pred_rbf = svc_rbf_kernel.predict(X_test)"
      ],
      "execution_count": null,
      "outputs": []
    },
    {
      "cell_type": "markdown",
      "metadata": {
        "id": "dRd8zm49kfwn"
      },
      "source": [
        "# Classification reports and Confusion Matrix\n",
        "Confusion matrix, precision, recall, and F1 measures are the most commonly used metrics for classification tasks. Scikit-Learn's metrics library contains the classification_report and confusion_matrix methods, which can be readily used to find out the values for these important metrics.\n",
        "We have used the following code for finding these metrics:"
      ]
    },
    {
      "cell_type": "markdown",
      "metadata": {
        "id": "CCRMvim57wPK"
      },
      "source": [
        "### For Linear Kernel"
      ]
    },
    {
      "cell_type": "code",
      "metadata": {
        "colab": {
          "base_uri": "https://localhost:8080/",
          "height": 542
        },
        "id": "6qfbWKKzku_Z",
        "outputId": "7d95dbe8-3810-423f-ede6-d6398b5c1249"
      },
      "source": [
        "from sklearn.metrics import classification_report, confusion_matrix,accuracy_score\n",
        "import seaborn as sn\n",
        "\n",
        "# classification report\n",
        "print(classification_report(y_test,y_pred_linear))\n",
        "\n",
        "# Accuracy  of model\n",
        "acc = float(accuracy_score(y_test,y_pred_linear))*100\n",
        "print(\"----accuracy score %s ----\" % acc)\n",
        "\n",
        "# confusion matrix\n",
        "cm = confusion_matrix(y_test,y_pred_linear)\n",
        "df_cm = pd.DataFrame(cm)\n",
        "sn.heatmap(df_cm, annot=True, fmt='')\n",
        "plt.show()"
      ],
      "execution_count": null,
      "outputs": [
        {
          "output_type": "stream",
          "name": "stdout",
          "text": [
            "              precision    recall  f1-score   support\n",
            "\n",
            "       angry       0.74      0.86      0.80       124\n",
            "        calm       0.42      0.66      0.52        38\n",
            "     disgust       0.68      0.69      0.68        99\n",
            "        fear       0.77      0.80      0.79       119\n",
            "       happy       0.69      0.64      0.67       115\n",
            "     neutral       0.82      0.74      0.77        91\n",
            "         sad       0.79      0.76      0.77       127\n",
            "   surprised       0.81      0.66      0.73       135\n",
            "\n",
            "    accuracy                           0.73       848\n",
            "   macro avg       0.71      0.73      0.71       848\n",
            "weighted avg       0.74      0.73      0.73       848\n",
            "\n",
            "----accuracy score 73.23113207547169 ----\n"
          ]
        },
        {
          "output_type": "display_data",
          "data": {
            "image/png": "[encoded data removed]",
            "text/plain": [
              "<Figure size 432x288 with 2 Axes>"
            ]
          },
          "metadata": {
            "needs_background": "light"
          }
        }
      ]
    },
    {
      "cell_type": "markdown",
      "metadata": {
        "id": "xxLQxvNp79LD"
      },
      "source": [
        "### For Gaussian Kernel"
      ]
    },
    {
      "cell_type": "code",
      "metadata": {
        "colab": {
          "base_uri": "https://localhost:8080/",
          "height": 547
        },
        "id": "mxKtLQBt8A4I",
        "outputId": "c212db4e-03a4-4190-cfff-9bb4c6d12b3d"
      },
      "source": [
        "\n",
        "# classification report\n",
        "print(classification_report(y_test,y_pred_rbf))\n",
        "\n",
        "# Accuracy  of model\n",
        "acc = float(accuracy_score(y_test,y_pred_rbf))*100\n",
        "print(\"----accuracy score %s ----\" % acc)\n",
        "\n",
        "# confusion matrix\n",
        "cm = confusion_matrix(y_test,y_pred_rbf)\n",
        "df_cm = pd.DataFrame(cm)\n",
        "sn.heatmap(df_cm, annot=True, fmt='')\n",
        "plt.show()"
      ],
      "execution_count": null,
      "outputs": [
        {
          "output_type": "stream",
          "name": "stdout",
          "text": [
            "              precision    recall  f1-score   support\n",
            "\n",
            "       angry       0.64      0.81      0.71       124\n",
            "        calm       0.29      0.76      0.42        38\n",
            "     disgust       0.34      0.75      0.46        99\n",
            "        fear       0.95      0.66      0.78       119\n",
            "       happy       0.81      0.18      0.30       115\n",
            "     neutral       1.00      0.75      0.86        91\n",
            "         sad       0.73      0.72      0.73       127\n",
            "   surprised       0.73      0.39      0.50       135\n",
            "\n",
            "    accuracy                           0.61       848\n",
            "   macro avg       0.69      0.63      0.60       848\n",
            "weighted avg       0.72      0.61      0.61       848\n",
            "\n",
            "----accuracy score 60.613207547169814 ----\n"
          ]
        },
        {
          "output_type": "display_data",
          "data": {
            "image/png": "[encoded data removed]",
            "text/plain": [
              "<Figure size 432x288 with 2 Axes>"
            ]
          },
          "metadata": {
            "needs_background": "light"
          }
        }
      ]
    },
    {
      "cell_type": "markdown",
      "metadata": {
        "id": "XADzC5Cbkx6a"
      },
      "source": [
        "Now by calculating the training accuracy and comparing with testing accuracy, we can check for overfitting of data"
      ]
    },
    {
      "cell_type": "code",
      "metadata": {
        "colab": {
          "base_uri": "https://localhost:8080/"
        },
        "id": "cPupL1MfjMVQ",
        "outputId": "df285fdd-809c-475e-9cd3-db1e05e43ec3"
      },
      "source": [
        "print(\"<----------Linear Kernel------------>\")\n",
        "train_acc = float(svc_linear_kernel.score(X_train, y_train)*100)\n",
        "print(\"----train accuracy score %s ----\" % train_acc)\n",
        "\n",
        "test_acc = float(svc_linear_kernel.score(X_test, y_test)*100)\n",
        "print(\"----test accuracy score %s ----\" % test_acc)\n",
        "\n",
        "print(\"<-----------Gaussian Kernel------------>\")\n",
        "\n",
        "train_acc = float(svc_linear_kernel.score(X_train, y_train)*100)\n",
        "print(\"----train accuracy score %s ----\" % train_acc)\n",
        "\n",
        "test_acc = float(svc_rbf_kernel.score(X_test, y_test)*100)\n",
        "print(\"----test accuracy score %s ----\" % test_acc)\n"
      ],
      "execution_count": null,
      "outputs": [
        {
          "output_type": "stream",
          "name": "stdout",
          "text": [
            "<----------Linear Kernel------------>\n",
            "----train accuracy score 82.54716981132076 ----\n",
            "----test accuracy score 73.23113207547169 ----\n",
            "<-----------Gaussian Kernel------------>\n",
            "----train accuracy score 82.54716981132076 ----\n",
            "----test accuracy score 60.613207547169814 ----\n"
          ]
        }
      ]
    },
    {
      "cell_type": "markdown",
      "metadata": {
        "id": "1x2ICDUKtows"
      },
      "source": [
        "# SVM with Scaling \n",
        "\n",
        "When performing the linear SVM classification, it is often helpful to normalize the training data. \n",
        "\n",
        "## Explanation\n",
        "\n",
        "The Gaussian kernel in SVM measures the distances between a pair of examples. If features take a different range of values, euclidean distance will be dominated by the features that have a huge range of values and consequently, will ignore other features whose range of values are small. Thus, feature scaling has to be performed before using the Gaussian kernel."
      ]
    },
    {
      "cell_type": "code",
      "metadata": {
        "colab": {
          "base_uri": "https://localhost:8080/"
        },
        "id": "OKhK1aW_trnZ",
        "outputId": "0e9a7400-a700-4c26-820a-cd37d3d3ba75"
      },
      "source": [
        "from sklearn.model_selection import train_test_split\n",
        "from sklearn.preprocessing import StandardScaler\n",
        "from sklearn.pipeline import Pipeline\n",
        "from sklearn.svm import SVC\n",
        "\n",
        "\n",
        "# Setup the pipeline steps: steps\n",
        "steps_liner_kernel = [('scaler', StandardScaler()),\n",
        "        ('SVM', SVC(kernel = 'linear'))]\n",
        "        \n",
        "steps_gaussian_kernel = [('scaler', StandardScaler()),\n",
        "        ('SVM', SVC(kernel = 'rbf'))]\n",
        "        \n",
        "# Create the pipeline to perform steps\n",
        "pipeline_linear = Pipeline(steps_liner_kernel)\n",
        "pipeline_rbf = Pipeline(steps_gaussian_kernel)\n",
        "\n",
        "# Fit the pipeline to the training set\n",
        "\n",
        "svc_scaled_linear_kernel = pipeline_linear.fit(X_train, y_train)\n",
        "\n",
        "svc_scaled_rbf_kernel = pipeline_rbf.fit(X_train, y_train)\n",
        "\n",
        "# Compute and print metrics\n",
        "print('Accuracy with Scaling with linear kernel: {}'.format(svc_scaled_linear_kernel.score(X_test, y_test)))\n",
        "print('Accuracy with Scaling with gaussian kernel: {}'.format(svc_scaled_rbf_kernel.score(X_test, y_test)))\n"
      ],
      "execution_count": null,
      "outputs": [
        {
          "output_type": "stream",
          "name": "stdout",
          "text": [
            "Accuracy with Scaling with linear kernel: 0.7405660377358491\n",
            "Accuracy with Scaling with gaussian kernel: 0.8172169811320755\n"
          ]
        }
      ]
    },
    {
      "cell_type": "markdown",
      "metadata": {
        "id": "A-sTwLc4aVY_"
      },
      "source": [
        "As SVC gaussian kernel permorming better compared to linear kernel, we will generate report and confusion matrix of SVC with gaussian kernel"
      ]
    },
    {
      "cell_type": "code",
      "metadata": {
        "id": "UAzqliITb2-e"
      },
      "source": [
        "svc_scaled = svc_scaled_linear_kernel"
      ],
      "execution_count": null,
      "outputs": []
    },
    {
      "cell_type": "markdown",
      "metadata": {
        "id": "9bxO_NYuUJpN"
      },
      "source": [
        "Checking for overfitting or underfitting by comparing the training and testing scores of the model"
      ]
    },
    {
      "cell_type": "code",
      "metadata": {
        "id": "Ve1e2yVBivNT",
        "colab": {
          "base_uri": "https://localhost:8080/"
        },
        "outputId": "c026f208-5e35-444e-910d-6c5844e37ffd"
      },
      "source": [
        "print(\"<----------Linear Kernel ----------->\")\n",
        "train_acc = float(svc_scaled_linear_kernel.score(X_train, y_train)*100)\n",
        "print(\"----train accuracy score %s ----\" % train_acc)\n",
        "\n",
        "test_acc = float(svc_scaled_linear_kernel.score(X_test, y_test)*100)\n",
        "print(\"----test accuracy score %s ----\" % test_acc)\n",
        "\n",
        "print(\"<----------Gaussian Kernel ----------->\")\n",
        "train_acc = float(svc_scaled_rbf_kernel.score(X_train, y_train)*100)\n",
        "print(\"----train accuracy score %s ----\" % train_acc)\n",
        "\n",
        "test_acc = float(svc_scaled_rbf_kernel.score(X_test, y_test)*100)\n",
        "print(\"----test accuracy score %s ----\" % test_acc)\n"
      ],
      "execution_count": null,
      "outputs": [
        {
          "output_type": "stream",
          "name": "stdout",
          "text": [
            "<----------Linear Kernel ----------->\n",
            "----train accuracy score 81.81014150943396 ----\n",
            "----test accuracy score 74.05660377358491 ----\n",
            "<----------Gaussian Kernel ----------->\n",
            "----train accuracy score 86.40919811320755 ----\n",
            "----test accuracy score 81.72169811320755 ----\n"
          ]
        }
      ]
    },
    {
      "cell_type": "code",
      "metadata": {
        "id": "JkMV4nVo2MBi"
      },
      "source": [
        "# predicting emotions of testing data\n",
        "scaled_predictions_linear_kernel = svc_scaled_linear_kernel.predict(X_test)\n",
        "scaled_predictions_rbf_kernel = svc_scaled_rbf_kernel.predict(X_test)"
      ],
      "execution_count": null,
      "outputs": []
    },
    {
      "cell_type": "markdown",
      "metadata": {
        "id": "r_56D7h6WkOE"
      },
      "source": [
        "# Classification reports and Confusion Matrix"
      ]
    },
    {
      "cell_type": "markdown",
      "metadata": {
        "id": "rDOJXun2_qb9"
      },
      "source": [
        "### Linear Kernel"
      ]
    },
    {
      "cell_type": "code",
      "metadata": {
        "colab": {
          "base_uri": "https://localhost:8080/",
          "height": 542
        },
        "id": "oROt3FvXwMHK",
        "outputId": "a7ce1e6b-c996-40d1-a0b6-6b53bf1424eb"
      },
      "source": [
        "from sklearn.metrics import classification_report, confusion_matrix,accuracy_score\n",
        "import seaborn as sn\n",
        "\n",
        "print(classification_report(y_test,scaled_predictions_linear_kernel))\n",
        "\n",
        "acc = float(accuracy_score(y_test,scaled_predictions_linear_kernel))*100\n",
        "print(\"----accuracy score %s ----\" % acc)\n",
        "\n",
        "cm = confusion_matrix(y_test,scaled_predictions_linear_kernel)\n",
        "df_cm = pd.DataFrame(cm)\n",
        "sn.heatmap(df_cm, annot=True, fmt='')\n",
        "plt.show()"
      ],
      "execution_count": null,
      "outputs": [
        {
          "output_type": "stream",
          "name": "stdout",
          "text": [
            "              precision    recall  f1-score   support\n",
            "\n",
            "       angry       0.76      0.88      0.81       124\n",
            "        calm       0.41      0.68      0.51        38\n",
            "     disgust       0.68      0.70      0.69        99\n",
            "        fear       0.77      0.81      0.79       119\n",
            "       happy       0.70      0.65      0.68       115\n",
            "     neutral       0.90      0.76      0.82        91\n",
            "         sad       0.78      0.72      0.75       127\n",
            "   surprised       0.82      0.68      0.74       135\n",
            "\n",
            "    accuracy                           0.74       848\n",
            "   macro avg       0.73      0.74      0.72       848\n",
            "weighted avg       0.75      0.74      0.74       848\n",
            "\n",
            "----accuracy score 74.05660377358491 ----\n"
          ]
        },
        {
          "output_type": "display_data",
          "data": {
            "image/png": "[encoded data removed]",
            "text/plain": [
              "<Figure size 432x288 with 2 Axes>"
            ]
          },
          "metadata": {
            "needs_background": "light"
          }
        }
      ]
    },
    {
      "cell_type": "markdown",
      "metadata": {
        "id": "9jr8VSZ2_0AE"
      },
      "source": [
        "### Gaussian Kernel"
      ]
    },
    {
      "cell_type": "code",
      "metadata": {
        "colab": {
          "base_uri": "https://localhost:8080/",
          "height": 542
        },
        "id": "qAJaIMbW_3tr",
        "outputId": "c477b461-ce44-4bb0-f30c-bce7e9cff03f"
      },
      "source": [
        "print(classification_report(y_test,scaled_predictions_rbf_kernel))\n",
        "\n",
        "acc = float(accuracy_score(y_test,scaled_predictions_rbf_kernel))*100\n",
        "print(\"----accuracy score %s ----\" % acc)\n",
        "\n",
        "cm = confusion_matrix(y_test,scaled_predictions_rbf_kernel)\n",
        "df_cm = pd.DataFrame(cm)\n",
        "sn.heatmap(df_cm, annot=True, fmt='')\n",
        "plt.show()"
      ],
      "execution_count": null,
      "outputs": [
        {
          "output_type": "stream",
          "name": "stdout",
          "text": [
            "              precision    recall  f1-score   support\n",
            "\n",
            "       angry       0.89      0.90      0.90       124\n",
            "        calm       0.40      0.84      0.54        38\n",
            "     disgust       0.76      0.82      0.79        99\n",
            "        fear       0.90      0.80      0.84       119\n",
            "       happy       0.82      0.77      0.79       115\n",
            "     neutral       1.00      0.76      0.86        91\n",
            "         sad       0.86      0.79      0.82       127\n",
            "   surprised       0.85      0.86      0.85       135\n",
            "\n",
            "    accuracy                           0.82       848\n",
            "   macro avg       0.81      0.82      0.80       848\n",
            "weighted avg       0.84      0.82      0.82       848\n",
            "\n",
            "----accuracy score 81.72169811320755 ----\n"
          ]
        },
        {
          "output_type": "display_data",
          "data": {
            "image/png": "[encoded data removed]",
            "text/plain": [
              "<Figure size 432x288 with 2 Axes>"
            ]
          },
          "metadata": {
            "needs_background": "light"
          }
        }
      ]
    }
  ]
}